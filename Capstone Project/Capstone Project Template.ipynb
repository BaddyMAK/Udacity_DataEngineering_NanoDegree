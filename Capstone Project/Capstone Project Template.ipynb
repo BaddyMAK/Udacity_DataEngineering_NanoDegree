{
 "cells": [
  {
   "cell_type": "markdown",
   "metadata": {
    "editable": true
   },
   "source": [
    "# Project Title\n",
    "### Data Engineering Capstone Project\n",
    "\n",
    "#### Project Summary\n",
    "--describe your project at a high level--\n",
    "\n",
    "The project follows the follow steps:\n",
    "* Step 1: Scope the Project and Gather Data\n",
    "* Step 2: Explore and Assess the Data\n",
    "* Step 3: Define the Data Model\n",
    "* Step 4: Run ETL to Model the Data\n",
    "* Step 5: Complete Project Write Up"
   ]
  },
  {
   "cell_type": "code",
   "execution_count": 1,
   "metadata": {
    "editable": true
   },
   "outputs": [],
   "source": [
    "# Do all imports and installs here\n",
    "import pandas as pd\n",
    "import pyspark\n",
    "# import image module\n",
    "from IPython.display import Image\n",
    "import matplotlib.pyplot as plt\n",
    "import ipywidgets as widgets\n",
    "import IPython.display as display"
   ]
  },
  {
   "cell_type": "code",
   "execution_count": 2,
   "metadata": {
    "editable": true
   },
   "outputs": [],
   "source": [
    "# Those libraries are going to be used for the ETL pipeline construction\n",
    "import configparser\n",
    "from datetime import datetime\n",
    "import os\n",
    "from pyspark.sql import SparkSession\n",
    "from pyspark.sql.functions import udf, col\n",
    "from pyspark.sql.functions import year, month, dayofmonth, hour, weekofyear, date_format,dayofweek\n",
    "from pyspark.sql.types import StructType, StructField, DoubleType, StringType, IntegerType, LongType,TimestampType"
   ]
  },
  {
   "cell_type": "code",
   "execution_count": 3,
   "metadata": {
    "editable": true
   },
   "outputs": [],
   "source": [
    "from pyspark.sql.functions import monotonically_increasing_id"
   ]
  },
  {
   "cell_type": "markdown",
   "metadata": {
    "editable": true
   },
   "source": [
    "### Step 1: Scope the Project and Gather Data\n",
    "\n",
    "#### 1.1- Scope \n",
    "\n",
    "In this section I am going to answer the next questions:\n",
    "- Explain what you plan to do in the project in more detail.\n",
    "- What data do you use? \n",
    "- What is your end solution look like?\n",
    "- What tools did you use?\n",
    "- Etc.\n",
    "\n",
    "The first step in this project consists on importing the four datasets, exploring each dataset via giving a general overview about each one such as the features (columns) number, the observations (rows) number and via identifying data quality issues, like missing values, duplicate data, etc. As a second step, I am going to define my the conceptual data model and I am going to give reasons behind my choice. Then, I am going to create the data pipeline with the conceptual data model I have chosen using an ETL process based on some sql queries. \n",
    "\n",
    "I decided to use the four datasets given by udacity to complete this project. Besides, the main dataset will include data on immigration to the United States, and supplementary datasets will include data on airport codes, U.S. city demographics, and temperature data.\n",
    "\n",
    "All the project steps are going to be accomplished using the Jupyter notebook.\n",
    "\n",
    "Every step in this project is well documented, starting by defining the main goals, then identifying which queries will be used and explaining how would Spark or Airflow be incorporated. The most important point is to demonstrate the reasong behind each choice. \n",
    "\n",
    "#### 1.2- Describe and Gather Data \n",
    "\n",
    "In this section, I am going to answer the next questions:\n",
    "- Describe the used data sets.\n",
    "- Where did it come from?\n",
    "- What type of information is included? \n",
    "\n",
    "As I mentioned before, to complete this project, I decided to use the four datasets given by udacity. The four datasets are the next:\n",
    "\n",
    "- Immigration to US Data :This data comes from the US National Tourism and Trade Office. \n",
    "- Airport codes: This is a simple dataframe of airport codes and corresponding cities\n",
    "- U.S. city demographics : This is a simple table of airport codes and corresponding cities.\n",
    "- Temperature data: This dataset came from Kaggle."
   ]
  },
  {
   "cell_type": "markdown",
   "metadata": {
    "editable": true
   },
   "source": [
    "##### a.I94 Immigration Data\n",
    "\n",
    "This data comes from the US National Tourism and Trade Office. It gives statistics about international visitors to the United States coming from different regions in all the world. This data is used by the US National Tourism and Trade Office to extract insights about Tourism movements to the country so they can improve services, detect anomlaies and increase output etc."
   ]
  },
  {
   "cell_type": "code",
   "execution_count": 4,
   "metadata": {
    "editable": true
   },
   "outputs": [
    {
     "data": {
      "text/html": [
       "<div>\n",
       "<style scoped>\n",
       "    .dataframe tbody tr th:only-of-type {\n",
       "        vertical-align: middle;\n",
       "    }\n",
       "\n",
       "    .dataframe tbody tr th {\n",
       "        vertical-align: top;\n",
       "    }\n",
       "\n",
       "    .dataframe thead th {\n",
       "        text-align: right;\n",
       "    }\n",
       "</style>\n",
       "<table border=\"1\" class=\"dataframe\">\n",
       "  <thead>\n",
       "    <tr style=\"text-align: right;\">\n",
       "      <th></th>\n",
       "      <th>cicid</th>\n",
       "      <th>i94yr</th>\n",
       "      <th>i94mon</th>\n",
       "      <th>i94cit</th>\n",
       "      <th>i94res</th>\n",
       "      <th>i94port</th>\n",
       "      <th>arrdate</th>\n",
       "      <th>i94mode</th>\n",
       "      <th>i94addr</th>\n",
       "      <th>depdate</th>\n",
       "      <th>...</th>\n",
       "      <th>entdepu</th>\n",
       "      <th>matflag</th>\n",
       "      <th>biryear</th>\n",
       "      <th>dtaddto</th>\n",
       "      <th>gender</th>\n",
       "      <th>insnum</th>\n",
       "      <th>airline</th>\n",
       "      <th>admnum</th>\n",
       "      <th>fltno</th>\n",
       "      <th>visatype</th>\n",
       "    </tr>\n",
       "  </thead>\n",
       "  <tbody>\n",
       "    <tr>\n",
       "      <th>0</th>\n",
       "      <td>4084316.0</td>\n",
       "      <td>2016.0</td>\n",
       "      <td>4.0</td>\n",
       "      <td>209.0</td>\n",
       "      <td>209.0</td>\n",
       "      <td>HHW</td>\n",
       "      <td>20566.0</td>\n",
       "      <td>1.0</td>\n",
       "      <td>HI</td>\n",
       "      <td>20573.0</td>\n",
       "      <td>...</td>\n",
       "      <td>NaN</td>\n",
       "      <td>M</td>\n",
       "      <td>1955.0</td>\n",
       "      <td>07202016</td>\n",
       "      <td>F</td>\n",
       "      <td>NaN</td>\n",
       "      <td>JL</td>\n",
       "      <td>5.658267e+10</td>\n",
       "      <td>00782</td>\n",
       "      <td>WT</td>\n",
       "    </tr>\n",
       "    <tr>\n",
       "      <th>1</th>\n",
       "      <td>4422636.0</td>\n",
       "      <td>2016.0</td>\n",
       "      <td>4.0</td>\n",
       "      <td>582.0</td>\n",
       "      <td>582.0</td>\n",
       "      <td>MCA</td>\n",
       "      <td>20567.0</td>\n",
       "      <td>1.0</td>\n",
       "      <td>TX</td>\n",
       "      <td>20568.0</td>\n",
       "      <td>...</td>\n",
       "      <td>NaN</td>\n",
       "      <td>M</td>\n",
       "      <td>1990.0</td>\n",
       "      <td>10222016</td>\n",
       "      <td>M</td>\n",
       "      <td>NaN</td>\n",
       "      <td>*GA</td>\n",
       "      <td>9.436200e+10</td>\n",
       "      <td>XBLNG</td>\n",
       "      <td>B2</td>\n",
       "    </tr>\n",
       "    <tr>\n",
       "      <th>2</th>\n",
       "      <td>1195600.0</td>\n",
       "      <td>2016.0</td>\n",
       "      <td>4.0</td>\n",
       "      <td>148.0</td>\n",
       "      <td>112.0</td>\n",
       "      <td>OGG</td>\n",
       "      <td>20551.0</td>\n",
       "      <td>1.0</td>\n",
       "      <td>FL</td>\n",
       "      <td>20571.0</td>\n",
       "      <td>...</td>\n",
       "      <td>NaN</td>\n",
       "      <td>M</td>\n",
       "      <td>1940.0</td>\n",
       "      <td>07052016</td>\n",
       "      <td>M</td>\n",
       "      <td>NaN</td>\n",
       "      <td>LH</td>\n",
       "      <td>5.578047e+10</td>\n",
       "      <td>00464</td>\n",
       "      <td>WT</td>\n",
       "    </tr>\n",
       "  </tbody>\n",
       "</table>\n",
       "<p>3 rows × 28 columns</p>\n",
       "</div>"
      ],
      "text/plain": [
       "       cicid   i94yr  i94mon  i94cit  i94res i94port  arrdate  i94mode  \\\n",
       "0  4084316.0  2016.0     4.0   209.0   209.0     HHW  20566.0      1.0   \n",
       "1  4422636.0  2016.0     4.0   582.0   582.0     MCA  20567.0      1.0   \n",
       "2  1195600.0  2016.0     4.0   148.0   112.0     OGG  20551.0      1.0   \n",
       "\n",
       "  i94addr  depdate   ...     entdepu  matflag  biryear   dtaddto gender  \\\n",
       "0      HI  20573.0   ...         NaN        M   1955.0  07202016      F   \n",
       "1      TX  20568.0   ...         NaN        M   1990.0  10222016      M   \n",
       "2      FL  20571.0   ...         NaN        M   1940.0  07052016      M   \n",
       "\n",
       "  insnum airline        admnum  fltno visatype  \n",
       "0    NaN      JL  5.658267e+10  00782       WT  \n",
       "1    NaN     *GA  9.436200e+10  XBLNG       B2  \n",
       "2    NaN      LH  5.578047e+10  00464       WT  \n",
       "\n",
       "[3 rows x 28 columns]"
      ]
     },
     "execution_count": 4,
     "metadata": {},
     "output_type": "execute_result"
    }
   ],
   "source": [
    "df_i94_migration=pd.read_csv('immigration_data_sample.csv')\n",
    "del df_i94_migration['Unnamed: 0']\n",
    "df_i94_migration.head(3)"
   ]
  },
  {
   "cell_type": "code",
   "execution_count": 5,
   "metadata": {
    "editable": true
   },
   "outputs": [
    {
     "data": {
      "text/plain": [
       "0      5.658267e+10\n",
       "1      9.436200e+10\n",
       "2      5.578047e+10\n",
       "3      9.478970e+10\n",
       "4      4.232257e+10\n",
       "5      7.368526e+08\n",
       "6      7.863122e+08\n",
       "7      5.547449e+10\n",
       "8      5.941342e+10\n",
       "9      5.544979e+10\n",
       "10     5.574381e+10\n",
       "11     5.933662e+10\n",
       "12     5.617586e+10\n",
       "13     9.461277e+10\n",
       "14     5.583339e+10\n",
       "15     4.416258e+10\n",
       "16     9.285800e+10\n",
       "17     9.338490e+10\n",
       "18     9.443560e+10\n",
       "19     9.353685e+10\n",
       "20     5.909986e+10\n",
       "21     9.325274e+10\n",
       "22     5.630712e+10\n",
       "23     9.365477e+10\n",
       "24     5.621703e+10\n",
       "25     5.553053e+10\n",
       "26     5.648670e+10\n",
       "27     9.469486e+10\n",
       "28     5.599644e+10\n",
       "29     9.361788e+10\n",
       "           ...     \n",
       "970    5.579231e+10\n",
       "971    5.929832e+10\n",
       "972    9.291274e+10\n",
       "973    5.924649e+10\n",
       "974    5.652541e+10\n",
       "975    5.583605e+10\n",
       "976    5.933928e+10\n",
       "977    5.927716e+10\n",
       "978    5.645324e+10\n",
       "979    5.569490e+10\n",
       "980    9.500985e+10\n",
       "981    5.630799e+10\n",
       "982    9.337128e+10\n",
       "983    9.301863e+10\n",
       "984    5.629125e+10\n",
       "985    9.485471e+10\n",
       "986    5.947464e+10\n",
       "987    5.550622e+10\n",
       "988    9.303277e+10\n",
       "989    5.583149e+10\n",
       "990    9.475131e+10\n",
       "991    9.319662e+10\n",
       "992    5.653427e+10\n",
       "993    9.282073e+10\n",
       "994    5.932276e+10\n",
       "995    5.914065e+10\n",
       "996    9.371186e+10\n",
       "997    5.627747e+10\n",
       "998    9.334035e+10\n",
       "999    9.440386e+10\n",
       "Name: admnum, Length: 1000, dtype: float64"
      ]
     },
     "execution_count": 5,
     "metadata": {},
     "output_type": "execute_result"
    }
   ],
   "source": [
    "df_i94_migration.admnum"
   ]
  },
  {
   "cell_type": "markdown",
   "metadata": {
    "editable": true
   },
   "source": [
    "##### b.Airport Code data:\n",
    "\n",
    "This dataset contains the list of all airport codes. Some of the columns contain attributes identifying airport locations, other codes (IATA, local if exist) that are relevant to identification of an airport.\n",
    "\n",
    "The airport codes could be one from the next two:\n",
    "\n",
    "- IATA airport code: a three-letter code which is used in passenger reservation, ticketing and baggage-handling systems.\n",
    "- ICAO airport code which is a four letter code used by ATC systems and for airports that do not have an IATA airport code. "
   ]
  },
  {
   "cell_type": "code",
   "execution_count": 6,
   "metadata": {
    "editable": true
   },
   "outputs": [
    {
     "data": {
      "text/html": [
       "<div>\n",
       "<style scoped>\n",
       "    .dataframe tbody tr th:only-of-type {\n",
       "        vertical-align: middle;\n",
       "    }\n",
       "\n",
       "    .dataframe tbody tr th {\n",
       "        vertical-align: top;\n",
       "    }\n",
       "\n",
       "    .dataframe thead th {\n",
       "        text-align: right;\n",
       "    }\n",
       "</style>\n",
       "<table border=\"1\" class=\"dataframe\">\n",
       "  <thead>\n",
       "    <tr style=\"text-align: right;\">\n",
       "      <th></th>\n",
       "      <th>ident</th>\n",
       "      <th>type</th>\n",
       "      <th>name</th>\n",
       "      <th>elevation_ft</th>\n",
       "      <th>continent</th>\n",
       "      <th>iso_country</th>\n",
       "      <th>iso_region</th>\n",
       "      <th>municipality</th>\n",
       "      <th>gps_code</th>\n",
       "      <th>iata_code</th>\n",
       "      <th>local_code</th>\n",
       "      <th>coordinates</th>\n",
       "    </tr>\n",
       "  </thead>\n",
       "  <tbody>\n",
       "    <tr>\n",
       "      <th>0</th>\n",
       "      <td>00A</td>\n",
       "      <td>heliport</td>\n",
       "      <td>Total Rf Heliport</td>\n",
       "      <td>11.0</td>\n",
       "      <td>NaN</td>\n",
       "      <td>US</td>\n",
       "      <td>US-PA</td>\n",
       "      <td>Bensalem</td>\n",
       "      <td>00A</td>\n",
       "      <td>NaN</td>\n",
       "      <td>00A</td>\n",
       "      <td>-74.93360137939453, 40.07080078125</td>\n",
       "    </tr>\n",
       "    <tr>\n",
       "      <th>1</th>\n",
       "      <td>00AA</td>\n",
       "      <td>small_airport</td>\n",
       "      <td>Aero B Ranch Airport</td>\n",
       "      <td>3435.0</td>\n",
       "      <td>NaN</td>\n",
       "      <td>US</td>\n",
       "      <td>US-KS</td>\n",
       "      <td>Leoti</td>\n",
       "      <td>00AA</td>\n",
       "      <td>NaN</td>\n",
       "      <td>00AA</td>\n",
       "      <td>-101.473911, 38.704022</td>\n",
       "    </tr>\n",
       "    <tr>\n",
       "      <th>2</th>\n",
       "      <td>00AK</td>\n",
       "      <td>small_airport</td>\n",
       "      <td>Lowell Field</td>\n",
       "      <td>450.0</td>\n",
       "      <td>NaN</td>\n",
       "      <td>US</td>\n",
       "      <td>US-AK</td>\n",
       "      <td>Anchor Point</td>\n",
       "      <td>00AK</td>\n",
       "      <td>NaN</td>\n",
       "      <td>00AK</td>\n",
       "      <td>-151.695999146, 59.94919968</td>\n",
       "    </tr>\n",
       "  </tbody>\n",
       "</table>\n",
       "</div>"
      ],
      "text/plain": [
       "  ident           type                  name  elevation_ft continent  \\\n",
       "0   00A       heliport     Total Rf Heliport          11.0       NaN   \n",
       "1  00AA  small_airport  Aero B Ranch Airport        3435.0       NaN   \n",
       "2  00AK  small_airport          Lowell Field         450.0       NaN   \n",
       "\n",
       "  iso_country iso_region  municipality gps_code iata_code local_code  \\\n",
       "0          US      US-PA      Bensalem      00A       NaN        00A   \n",
       "1          US      US-KS         Leoti     00AA       NaN       00AA   \n",
       "2          US      US-AK  Anchor Point     00AK       NaN       00AK   \n",
       "\n",
       "                          coordinates  \n",
       "0  -74.93360137939453, 40.07080078125  \n",
       "1              -101.473911, 38.704022  \n",
       "2         -151.695999146, 59.94919968  "
      ]
     },
     "execution_count": 6,
     "metadata": {},
     "output_type": "execute_result"
    }
   ],
   "source": [
    "df_airport_code=pd.read_csv('airport-codes_csv.csv')\n",
    "df_airport_code .head(3)"
   ]
  },
  {
   "cell_type": "markdown",
   "metadata": {
    "editable": true
   },
   "source": [
    "##### c.U.S. city demographics data\n",
    "\n",
    "This dataset comes from OpenSoft. It contains information about the demographics of all US cities and census-designated places with a population greater or equal to 65,000. This data comes from the US Census Bureau's 2015 American Community Survey."
   ]
  },
  {
   "cell_type": "code",
   "execution_count": 7,
   "metadata": {
    "editable": true
   },
   "outputs": [
    {
     "data": {
      "text/html": [
       "<div>\n",
       "<style scoped>\n",
       "    .dataframe tbody tr th:only-of-type {\n",
       "        vertical-align: middle;\n",
       "    }\n",
       "\n",
       "    .dataframe tbody tr th {\n",
       "        vertical-align: top;\n",
       "    }\n",
       "\n",
       "    .dataframe thead th {\n",
       "        text-align: right;\n",
       "    }\n",
       "</style>\n",
       "<table border=\"1\" class=\"dataframe\">\n",
       "  <thead>\n",
       "    <tr style=\"text-align: right;\">\n",
       "      <th></th>\n",
       "      <th>City</th>\n",
       "      <th>State</th>\n",
       "      <th>Median Age</th>\n",
       "      <th>Male Population</th>\n",
       "      <th>Female Population</th>\n",
       "      <th>Total Population</th>\n",
       "      <th>Number of Veterans</th>\n",
       "      <th>Foreign-born</th>\n",
       "      <th>Average Household Size</th>\n",
       "      <th>State Code</th>\n",
       "      <th>Race</th>\n",
       "      <th>Count</th>\n",
       "    </tr>\n",
       "  </thead>\n",
       "  <tbody>\n",
       "    <tr>\n",
       "      <th>0</th>\n",
       "      <td>Silver Spring</td>\n",
       "      <td>Maryland</td>\n",
       "      <td>33.8</td>\n",
       "      <td>40601.0</td>\n",
       "      <td>41862.0</td>\n",
       "      <td>82463</td>\n",
       "      <td>1562.0</td>\n",
       "      <td>30908.0</td>\n",
       "      <td>2.60</td>\n",
       "      <td>MD</td>\n",
       "      <td>Hispanic or Latino</td>\n",
       "      <td>25924</td>\n",
       "    </tr>\n",
       "    <tr>\n",
       "      <th>1</th>\n",
       "      <td>Quincy</td>\n",
       "      <td>Massachusetts</td>\n",
       "      <td>41.0</td>\n",
       "      <td>44129.0</td>\n",
       "      <td>49500.0</td>\n",
       "      <td>93629</td>\n",
       "      <td>4147.0</td>\n",
       "      <td>32935.0</td>\n",
       "      <td>2.39</td>\n",
       "      <td>MA</td>\n",
       "      <td>White</td>\n",
       "      <td>58723</td>\n",
       "    </tr>\n",
       "    <tr>\n",
       "      <th>2</th>\n",
       "      <td>Hoover</td>\n",
       "      <td>Alabama</td>\n",
       "      <td>38.5</td>\n",
       "      <td>38040.0</td>\n",
       "      <td>46799.0</td>\n",
       "      <td>84839</td>\n",
       "      <td>4819.0</td>\n",
       "      <td>8229.0</td>\n",
       "      <td>2.58</td>\n",
       "      <td>AL</td>\n",
       "      <td>Asian</td>\n",
       "      <td>4759</td>\n",
       "    </tr>\n",
       "  </tbody>\n",
       "</table>\n",
       "</div>"
      ],
      "text/plain": [
       "            City          State  Median Age  Male Population  \\\n",
       "0  Silver Spring       Maryland        33.8          40601.0   \n",
       "1         Quincy  Massachusetts        41.0          44129.0   \n",
       "2         Hoover        Alabama        38.5          38040.0   \n",
       "\n",
       "   Female Population  Total Population  Number of Veterans  Foreign-born  \\\n",
       "0            41862.0             82463              1562.0       30908.0   \n",
       "1            49500.0             93629              4147.0       32935.0   \n",
       "2            46799.0             84839              4819.0        8229.0   \n",
       "\n",
       "   Average Household Size State Code                Race  Count  \n",
       "0                    2.60         MD  Hispanic or Latino  25924  \n",
       "1                    2.39         MA               White  58723  \n",
       "2                    2.58         AL               Asian   4759  "
      ]
     },
     "execution_count": 7,
     "metadata": {},
     "output_type": "execute_result"
    }
   ],
   "source": [
    "df_us_city_demo=pd.read_csv('us-cities-demographics.csv', sep=';')\n",
    "df_us_city_demo.head(3)"
   ]
  },
  {
   "cell_type": "markdown",
   "metadata": {
    "editable": true
   },
   "source": [
    "##### d. World Temperatures data\n",
    "\n",
    "This dataset is provided by Kaggle. It contains temperature data about monthly average temperature value for many countries worldwide."
   ]
  },
  {
   "cell_type": "code",
   "execution_count": 8,
   "metadata": {
    "editable": true
   },
   "outputs": [
    {
     "data": {
      "text/html": [
       "<div>\n",
       "<style scoped>\n",
       "    .dataframe tbody tr th:only-of-type {\n",
       "        vertical-align: middle;\n",
       "    }\n",
       "\n",
       "    .dataframe tbody tr th {\n",
       "        vertical-align: top;\n",
       "    }\n",
       "\n",
       "    .dataframe thead th {\n",
       "        text-align: right;\n",
       "    }\n",
       "</style>\n",
       "<table border=\"1\" class=\"dataframe\">\n",
       "  <thead>\n",
       "    <tr style=\"text-align: right;\">\n",
       "      <th></th>\n",
       "      <th>dt</th>\n",
       "      <th>AverageTemperature</th>\n",
       "      <th>AverageTemperatureUncertainty</th>\n",
       "      <th>City</th>\n",
       "      <th>Country</th>\n",
       "      <th>Latitude</th>\n",
       "      <th>Longitude</th>\n",
       "    </tr>\n",
       "  </thead>\n",
       "  <tbody>\n",
       "    <tr>\n",
       "      <th>0</th>\n",
       "      <td>1743-11-01</td>\n",
       "      <td>6.068</td>\n",
       "      <td>1.737</td>\n",
       "      <td>Århus</td>\n",
       "      <td>Denmark</td>\n",
       "      <td>57.05N</td>\n",
       "      <td>10.33E</td>\n",
       "    </tr>\n",
       "    <tr>\n",
       "      <th>1</th>\n",
       "      <td>1743-12-01</td>\n",
       "      <td>NaN</td>\n",
       "      <td>NaN</td>\n",
       "      <td>Århus</td>\n",
       "      <td>Denmark</td>\n",
       "      <td>57.05N</td>\n",
       "      <td>10.33E</td>\n",
       "    </tr>\n",
       "    <tr>\n",
       "      <th>2</th>\n",
       "      <td>1744-01-01</td>\n",
       "      <td>NaN</td>\n",
       "      <td>NaN</td>\n",
       "      <td>Århus</td>\n",
       "      <td>Denmark</td>\n",
       "      <td>57.05N</td>\n",
       "      <td>10.33E</td>\n",
       "    </tr>\n",
       "  </tbody>\n",
       "</table>\n",
       "</div>"
      ],
      "text/plain": [
       "           dt  AverageTemperature  AverageTemperatureUncertainty   City  \\\n",
       "0  1743-11-01               6.068                          1.737  Århus   \n",
       "1  1743-12-01                 NaN                            NaN  Århus   \n",
       "2  1744-01-01                 NaN                            NaN  Århus   \n",
       "\n",
       "   Country Latitude Longitude  \n",
       "0  Denmark   57.05N    10.33E  \n",
       "1  Denmark   57.05N    10.33E  \n",
       "2  Denmark   57.05N    10.33E  "
      ]
     },
     "execution_count": 8,
     "metadata": {},
     "output_type": "execute_result"
    }
   ],
   "source": [
    "df_World_Temperature=pd.read_csv('/data2/GlobalLandTemperaturesByCity.csv')\n",
    "df_World_Temperature.head(3)"
   ]
  },
  {
   "cell_type": "code",
   "execution_count": 9,
   "metadata": {
    "editable": true
   },
   "outputs": [],
   "source": [
    "list_countries=[c for c in df_World_Temperature.Country.unique()]\n",
    "#print('list of countries listed in this dataframe is the next', list_countries)"
   ]
  },
  {
   "cell_type": "markdown",
   "metadata": {
    "editable": true
   },
   "source": [
    "I noticed that there is no temperature data for the United States in 2016"
   ]
  },
  {
   "cell_type": "markdown",
   "metadata": {
    "editable": true
   },
   "source": [
    "## Read data with Pyspark"
   ]
  },
  {
   "cell_type": "code",
   "execution_count": 10,
   "metadata": {
    "editable": true
   },
   "outputs": [],
   "source": [
    "from pyspark.sql import SparkSession\n",
    "\n",
    "spark = SparkSession.builder.\\\n",
    "config(\"spark.jars.repositories\", \"https://repos.spark-packages.org/\").\\\n",
    "config(\"spark.jars.packages\", \"saurfang:spark-sas7bdat:2.0.0-s_2.11\").\\\n",
    "enableHiveSupport().getOrCreate()\n",
    "\n",
    "df_spark = spark.read.format('com.github.saurfang.sas.spark').load('../../data/18-83510-I94-Data-2016/i94_apr16_sub.sas7bdat')\n"
   ]
  },
  {
   "cell_type": "code",
   "execution_count": 11,
   "metadata": {
    "editable": true
   },
   "outputs": [],
   "source": [
    "#write to parquet\n",
    "#df_spark.write.parquet(\"sas_data\")\n",
    "df_spark=spark.read.parquet(\"sas_data\")"
   ]
  },
  {
   "cell_type": "code",
   "execution_count": 12,
   "metadata": {
    "editable": true
   },
   "outputs": [
    {
     "data": {
      "text/plain": [
       "[Row(cicid=5748517.0, i94yr=2016.0, i94mon=4.0, i94cit=245.0, i94res=438.0, i94port='LOS', arrdate=20574.0, i94mode=1.0, i94addr='CA', depdate=20582.0, i94bir=40.0, i94visa=1.0, count=1.0, dtadfile='20160430', visapost='SYD', occup=None, entdepa='G', entdepd='O', entdepu=None, matflag='M', biryear=1976.0, dtaddto='10292016', gender='F', insnum=None, airline='QF', admnum=94953870030.0, fltno='00011', visatype='B1')]"
      ]
     },
     "execution_count": 12,
     "metadata": {},
     "output_type": "execute_result"
    }
   ],
   "source": [
    "df_spark.head(1)"
   ]
  },
  {
   "cell_type": "markdown",
   "metadata": {
    "editable": true
   },
   "source": [
    "### Step 2: Explore and Assess the Data\n",
    "#### 2.1- Explore the Data \n",
    "- I have used pandas for Exploratory data analysis : EDA : rows number, column number, general overview etc\n",
    "- I decided to replace missing value with median if the column is numeric otherwise I am going to remove that raw\n",
    "- I deleted duplicate values\n",
    "\n",
    "##### a.I94 Immigration Data"
   ]
  },
  {
   "cell_type": "markdown",
   "metadata": {
    "editable": true
   },
   "source": [
    "The dataset contains 28 features such as: year, month, port,  arrival date, arrival mode, address, visatype, occupation, airline, gender, departure date, country etc.\n",
    "\n",
    "I am going to select only the relevant features or columns\n",
    "\n",
    "###### Getting general idea about the data"
   ]
  },
  {
   "cell_type": "code",
   "execution_count": 13,
   "metadata": {
    "editable": true
   },
   "outputs": [
    {
     "name": "stdout",
     "output_type": "stream",
     "text": [
      "<class 'pandas.core.frame.DataFrame'>\n",
      "RangeIndex: 1000 entries, 0 to 999\n",
      "Data columns (total 28 columns):\n",
      "cicid       1000 non-null float64\n",
      "i94yr       1000 non-null float64\n",
      "i94mon      1000 non-null float64\n",
      "i94cit      1000 non-null float64\n",
      "i94res      1000 non-null float64\n",
      "i94port     1000 non-null object\n",
      "arrdate     1000 non-null float64\n",
      "i94mode     1000 non-null float64\n",
      "i94addr     941 non-null object\n",
      "depdate     951 non-null float64\n",
      "i94bir      1000 non-null float64\n",
      "i94visa     1000 non-null float64\n",
      "count       1000 non-null float64\n",
      "dtadfile    1000 non-null int64\n",
      "visapost    382 non-null object\n",
      "occup       4 non-null object\n",
      "entdepa     1000 non-null object\n",
      "entdepd     954 non-null object\n",
      "entdepu     0 non-null float64\n",
      "matflag     954 non-null object\n",
      "biryear     1000 non-null float64\n",
      "dtaddto     1000 non-null object\n",
      "gender      859 non-null object\n",
      "insnum      35 non-null float64\n",
      "airline     967 non-null object\n",
      "admnum      1000 non-null float64\n",
      "fltno       992 non-null object\n",
      "visatype    1000 non-null object\n",
      "dtypes: float64(15), int64(1), object(12)\n",
      "memory usage: 218.8+ KB\n"
     ]
    }
   ],
   "source": [
    "df_i94_migration.info()"
   ]
  },
  {
   "cell_type": "code",
   "execution_count": 14,
   "metadata": {
    "editable": true
   },
   "outputs": [
    {
     "data": {
      "text/html": [
       "<div>\n",
       "<style scoped>\n",
       "    .dataframe tbody tr th:only-of-type {\n",
       "        vertical-align: middle;\n",
       "    }\n",
       "\n",
       "    .dataframe tbody tr th {\n",
       "        vertical-align: top;\n",
       "    }\n",
       "\n",
       "    .dataframe thead th {\n",
       "        text-align: right;\n",
       "    }\n",
       "</style>\n",
       "<table border=\"1\" class=\"dataframe\">\n",
       "  <thead>\n",
       "    <tr style=\"text-align: right;\">\n",
       "      <th></th>\n",
       "      <th>count</th>\n",
       "      <th>mean</th>\n",
       "      <th>std</th>\n",
       "      <th>min</th>\n",
       "      <th>25%</th>\n",
       "      <th>50%</th>\n",
       "      <th>75%</th>\n",
       "      <th>max</th>\n",
       "    </tr>\n",
       "  </thead>\n",
       "  <tbody>\n",
       "    <tr>\n",
       "      <th>cicid</th>\n",
       "      <td>1000.0</td>\n",
       "      <td>3.040461e+06</td>\n",
       "      <td>1.799818e+06</td>\n",
       "      <td>13208.0</td>\n",
       "      <td>1.412170e+06</td>\n",
       "      <td>2.941176e+06</td>\n",
       "      <td>4.694151e+06</td>\n",
       "      <td>6.061994e+06</td>\n",
       "    </tr>\n",
       "    <tr>\n",
       "      <th>i94yr</th>\n",
       "      <td>1000.0</td>\n",
       "      <td>2.016000e+03</td>\n",
       "      <td>0.000000e+00</td>\n",
       "      <td>2016.0</td>\n",
       "      <td>2.016000e+03</td>\n",
       "      <td>2.016000e+03</td>\n",
       "      <td>2.016000e+03</td>\n",
       "      <td>2.016000e+03</td>\n",
       "    </tr>\n",
       "    <tr>\n",
       "      <th>i94mon</th>\n",
       "      <td>1000.0</td>\n",
       "      <td>4.000000e+00</td>\n",
       "      <td>0.000000e+00</td>\n",
       "      <td>4.0</td>\n",
       "      <td>4.000000e+00</td>\n",
       "      <td>4.000000e+00</td>\n",
       "      <td>4.000000e+00</td>\n",
       "      <td>4.000000e+00</td>\n",
       "    </tr>\n",
       "    <tr>\n",
       "      <th>i94cit</th>\n",
       "      <td>1000.0</td>\n",
       "      <td>3.029280e+02</td>\n",
       "      <td>2.064853e+02</td>\n",
       "      <td>103.0</td>\n",
       "      <td>1.350000e+02</td>\n",
       "      <td>2.130000e+02</td>\n",
       "      <td>4.380000e+02</td>\n",
       "      <td>7.460000e+02</td>\n",
       "    </tr>\n",
       "    <tr>\n",
       "      <th>i94res</th>\n",
       "      <td>1000.0</td>\n",
       "      <td>2.982620e+02</td>\n",
       "      <td>2.021204e+02</td>\n",
       "      <td>103.0</td>\n",
       "      <td>1.310000e+02</td>\n",
       "      <td>2.130000e+02</td>\n",
       "      <td>4.380000e+02</td>\n",
       "      <td>6.960000e+02</td>\n",
       "    </tr>\n",
       "    <tr>\n",
       "      <th>arrdate</th>\n",
       "      <td>1000.0</td>\n",
       "      <td>2.055968e+04</td>\n",
       "      <td>8.995027e+00</td>\n",
       "      <td>20545.0</td>\n",
       "      <td>2.055200e+04</td>\n",
       "      <td>2.056000e+04</td>\n",
       "      <td>2.056725e+04</td>\n",
       "      <td>2.057400e+04</td>\n",
       "    </tr>\n",
       "    <tr>\n",
       "      <th>i94mode</th>\n",
       "      <td>1000.0</td>\n",
       "      <td>1.078000e+00</td>\n",
       "      <td>4.859549e-01</td>\n",
       "      <td>1.0</td>\n",
       "      <td>1.000000e+00</td>\n",
       "      <td>1.000000e+00</td>\n",
       "      <td>1.000000e+00</td>\n",
       "      <td>9.000000e+00</td>\n",
       "    </tr>\n",
       "    <tr>\n",
       "      <th>depdate</th>\n",
       "      <td>951.0</td>\n",
       "      <td>2.057504e+04</td>\n",
       "      <td>2.421123e+01</td>\n",
       "      <td>20547.0</td>\n",
       "      <td>2.056100e+04</td>\n",
       "      <td>2.057000e+04</td>\n",
       "      <td>2.058000e+04</td>\n",
       "      <td>2.071500e+04</td>\n",
       "    </tr>\n",
       "    <tr>\n",
       "      <th>i94bir</th>\n",
       "      <td>1000.0</td>\n",
       "      <td>4.238200e+01</td>\n",
       "      <td>1.790342e+01</td>\n",
       "      <td>1.0</td>\n",
       "      <td>3.075000e+01</td>\n",
       "      <td>4.200000e+01</td>\n",
       "      <td>5.500000e+01</td>\n",
       "      <td>9.300000e+01</td>\n",
       "    </tr>\n",
       "    <tr>\n",
       "      <th>i94visa</th>\n",
       "      <td>1000.0</td>\n",
       "      <td>1.859000e+00</td>\n",
       "      <td>3.863525e-01</td>\n",
       "      <td>1.0</td>\n",
       "      <td>2.000000e+00</td>\n",
       "      <td>2.000000e+00</td>\n",
       "      <td>2.000000e+00</td>\n",
       "      <td>3.000000e+00</td>\n",
       "    </tr>\n",
       "    <tr>\n",
       "      <th>count</th>\n",
       "      <td>1000.0</td>\n",
       "      <td>1.000000e+00</td>\n",
       "      <td>0.000000e+00</td>\n",
       "      <td>1.0</td>\n",
       "      <td>1.000000e+00</td>\n",
       "      <td>1.000000e+00</td>\n",
       "      <td>1.000000e+00</td>\n",
       "      <td>1.000000e+00</td>\n",
       "    </tr>\n",
       "    <tr>\n",
       "      <th>dtadfile</th>\n",
       "      <td>1000.0</td>\n",
       "      <td>2.016042e+07</td>\n",
       "      <td>4.951657e+01</td>\n",
       "      <td>20160401.0</td>\n",
       "      <td>2.016041e+07</td>\n",
       "      <td>2.016042e+07</td>\n",
       "      <td>2.016042e+07</td>\n",
       "      <td>2.016080e+07</td>\n",
       "    </tr>\n",
       "    <tr>\n",
       "      <th>entdepu</th>\n",
       "      <td>0.0</td>\n",
       "      <td>NaN</td>\n",
       "      <td>NaN</td>\n",
       "      <td>NaN</td>\n",
       "      <td>NaN</td>\n",
       "      <td>NaN</td>\n",
       "      <td>NaN</td>\n",
       "      <td>NaN</td>\n",
       "    </tr>\n",
       "    <tr>\n",
       "      <th>biryear</th>\n",
       "      <td>1000.0</td>\n",
       "      <td>1.973618e+03</td>\n",
       "      <td>1.790342e+01</td>\n",
       "      <td>1923.0</td>\n",
       "      <td>1.961000e+03</td>\n",
       "      <td>1.974000e+03</td>\n",
       "      <td>1.985250e+03</td>\n",
       "      <td>2.015000e+03</td>\n",
       "    </tr>\n",
       "    <tr>\n",
       "      <th>insnum</th>\n",
       "      <td>35.0</td>\n",
       "      <td>3.826857e+03</td>\n",
       "      <td>2.217426e+02</td>\n",
       "      <td>3468.0</td>\n",
       "      <td>3.668000e+03</td>\n",
       "      <td>3.887000e+03</td>\n",
       "      <td>3.943000e+03</td>\n",
       "      <td>4.686000e+03</td>\n",
       "    </tr>\n",
       "    <tr>\n",
       "      <th>admnum</th>\n",
       "      <td>1000.0</td>\n",
       "      <td>6.937237e+10</td>\n",
       "      <td>2.338134e+10</td>\n",
       "      <td>0.0</td>\n",
       "      <td>5.599301e+10</td>\n",
       "      <td>5.931477e+10</td>\n",
       "      <td>9.343623e+10</td>\n",
       "      <td>9.502151e+10</td>\n",
       "    </tr>\n",
       "  </tbody>\n",
       "</table>\n",
       "</div>"
      ],
      "text/plain": [
       "           count          mean           std         min           25%  \\\n",
       "cicid     1000.0  3.040461e+06  1.799818e+06     13208.0  1.412170e+06   \n",
       "i94yr     1000.0  2.016000e+03  0.000000e+00      2016.0  2.016000e+03   \n",
       "i94mon    1000.0  4.000000e+00  0.000000e+00         4.0  4.000000e+00   \n",
       "i94cit    1000.0  3.029280e+02  2.064853e+02       103.0  1.350000e+02   \n",
       "i94res    1000.0  2.982620e+02  2.021204e+02       103.0  1.310000e+02   \n",
       "arrdate   1000.0  2.055968e+04  8.995027e+00     20545.0  2.055200e+04   \n",
       "i94mode   1000.0  1.078000e+00  4.859549e-01         1.0  1.000000e+00   \n",
       "depdate    951.0  2.057504e+04  2.421123e+01     20547.0  2.056100e+04   \n",
       "i94bir    1000.0  4.238200e+01  1.790342e+01         1.0  3.075000e+01   \n",
       "i94visa   1000.0  1.859000e+00  3.863525e-01         1.0  2.000000e+00   \n",
       "count     1000.0  1.000000e+00  0.000000e+00         1.0  1.000000e+00   \n",
       "dtadfile  1000.0  2.016042e+07  4.951657e+01  20160401.0  2.016041e+07   \n",
       "entdepu      0.0           NaN           NaN         NaN           NaN   \n",
       "biryear   1000.0  1.973618e+03  1.790342e+01      1923.0  1.961000e+03   \n",
       "insnum      35.0  3.826857e+03  2.217426e+02      3468.0  3.668000e+03   \n",
       "admnum    1000.0  6.937237e+10  2.338134e+10         0.0  5.599301e+10   \n",
       "\n",
       "                   50%           75%           max  \n",
       "cicid     2.941176e+06  4.694151e+06  6.061994e+06  \n",
       "i94yr     2.016000e+03  2.016000e+03  2.016000e+03  \n",
       "i94mon    4.000000e+00  4.000000e+00  4.000000e+00  \n",
       "i94cit    2.130000e+02  4.380000e+02  7.460000e+02  \n",
       "i94res    2.130000e+02  4.380000e+02  6.960000e+02  \n",
       "arrdate   2.056000e+04  2.056725e+04  2.057400e+04  \n",
       "i94mode   1.000000e+00  1.000000e+00  9.000000e+00  \n",
       "depdate   2.057000e+04  2.058000e+04  2.071500e+04  \n",
       "i94bir    4.200000e+01  5.500000e+01  9.300000e+01  \n",
       "i94visa   2.000000e+00  2.000000e+00  3.000000e+00  \n",
       "count     1.000000e+00  1.000000e+00  1.000000e+00  \n",
       "dtadfile  2.016042e+07  2.016042e+07  2.016080e+07  \n",
       "entdepu            NaN           NaN           NaN  \n",
       "biryear   1.974000e+03  1.985250e+03  2.015000e+03  \n",
       "insnum    3.887000e+03  3.943000e+03  4.686000e+03  \n",
       "admnum    5.931477e+10  9.343623e+10  9.502151e+10  "
      ]
     },
     "execution_count": 14,
     "metadata": {},
     "output_type": "execute_result"
    }
   ],
   "source": [
    "df_i94_migration.describe().transpose()"
   ]
  },
  {
   "cell_type": "markdown",
   "metadata": {
    "editable": true
   },
   "source": [
    "###### Dataset features"
   ]
  },
  {
   "cell_type": "code",
   "execution_count": 15,
   "metadata": {
    "editable": true
   },
   "outputs": [
    {
     "data": {
      "text/plain": [
       "Index(['cicid', 'i94yr', 'i94mon', 'i94cit', 'i94res', 'i94port', 'arrdate',\n",
       "       'i94mode', 'i94addr', 'depdate', 'i94bir', 'i94visa', 'count',\n",
       "       'dtadfile', 'visapost', 'occup', 'entdepa', 'entdepd', 'entdepu',\n",
       "       'matflag', 'biryear', 'dtaddto', 'gender', 'insnum', 'airline',\n",
       "       'admnum', 'fltno', 'visatype'],\n",
       "      dtype='object')"
      ]
     },
     "execution_count": 15,
     "metadata": {},
     "output_type": "execute_result"
    }
   ],
   "source": [
    "df_i94_migration.columns"
   ]
  },
  {
   "cell_type": "markdown",
   "metadata": {
    "editable": true
   },
   "source": [
    "###### Dimensions"
   ]
  },
  {
   "cell_type": "code",
   "execution_count": 16,
   "metadata": {
    "editable": true
   },
   "outputs": [
    {
     "data": {
      "text/plain": [
       "(1000, 28)"
      ]
     },
     "execution_count": 16,
     "metadata": {},
     "output_type": "execute_result"
    }
   ],
   "source": [
    "df_i94_migration.shape"
   ]
  },
  {
   "cell_type": "markdown",
   "metadata": {
    "editable": true
   },
   "source": [
    "###### Data types"
   ]
  },
  {
   "cell_type": "code",
   "execution_count": 17,
   "metadata": {
    "editable": true
   },
   "outputs": [
    {
     "data": {
      "text/plain": [
       "cicid       float64\n",
       "i94yr       float64\n",
       "i94mon      float64\n",
       "i94cit      float64\n",
       "i94res      float64\n",
       "i94port      object\n",
       "arrdate     float64\n",
       "i94mode     float64\n",
       "i94addr      object\n",
       "depdate     float64\n",
       "i94bir      float64\n",
       "i94visa     float64\n",
       "count       float64\n",
       "dtadfile      int64\n",
       "visapost     object\n",
       "occup        object\n",
       "entdepa      object\n",
       "entdepd      object\n",
       "entdepu     float64\n",
       "matflag      object\n",
       "biryear     float64\n",
       "dtaddto      object\n",
       "gender       object\n",
       "insnum      float64\n",
       "airline      object\n",
       "admnum      float64\n",
       "fltno        object\n",
       "visatype     object\n",
       "dtype: object"
      ]
     },
     "execution_count": 17,
     "metadata": {},
     "output_type": "execute_result"
    }
   ],
   "source": [
    "df_i94_migration.dtypes"
   ]
  },
  {
   "cell_type": "markdown",
   "metadata": {
    "editable": true
   },
   "source": [
    "##### b.Airport Code data: "
   ]
  },
  {
   "cell_type": "markdown",
   "metadata": {
    "editable": true
   },
   "source": [
    "The dataset has 12 features such as : identification code, name of airport, continent, iso country, municipality, GPS code, local code, iso region etc.\n",
    "\n",
    "The same here, only relevant features are going to be considered."
   ]
  },
  {
   "cell_type": "markdown",
   "metadata": {
    "editable": true
   },
   "source": [
    "###### Getting general idea about the data"
   ]
  },
  {
   "cell_type": "code",
   "execution_count": 18,
   "metadata": {
    "editable": true
   },
   "outputs": [
    {
     "name": "stdout",
     "output_type": "stream",
     "text": [
      "<class 'pandas.core.frame.DataFrame'>\n",
      "RangeIndex: 55075 entries, 0 to 55074\n",
      "Data columns (total 12 columns):\n",
      "ident           55075 non-null object\n",
      "type            55075 non-null object\n",
      "name            55075 non-null object\n",
      "elevation_ft    48069 non-null float64\n",
      "continent       27356 non-null object\n",
      "iso_country     54828 non-null object\n",
      "iso_region      55075 non-null object\n",
      "municipality    49399 non-null object\n",
      "gps_code        41030 non-null object\n",
      "iata_code       9189 non-null object\n",
      "local_code      28686 non-null object\n",
      "coordinates     55075 non-null object\n",
      "dtypes: float64(1), object(11)\n",
      "memory usage: 5.0+ MB\n"
     ]
    }
   ],
   "source": [
    "df_airport_code.info()"
   ]
  },
  {
   "cell_type": "code",
   "execution_count": 19,
   "metadata": {
    "editable": true
   },
   "outputs": [
    {
     "data": {
      "text/html": [
       "<div>\n",
       "<style scoped>\n",
       "    .dataframe tbody tr th:only-of-type {\n",
       "        vertical-align: middle;\n",
       "    }\n",
       "\n",
       "    .dataframe tbody tr th {\n",
       "        vertical-align: top;\n",
       "    }\n",
       "\n",
       "    .dataframe thead th {\n",
       "        text-align: right;\n",
       "    }\n",
       "</style>\n",
       "<table border=\"1\" class=\"dataframe\">\n",
       "  <thead>\n",
       "    <tr style=\"text-align: right;\">\n",
       "      <th></th>\n",
       "      <th>count</th>\n",
       "      <th>mean</th>\n",
       "      <th>std</th>\n",
       "      <th>min</th>\n",
       "      <th>25%</th>\n",
       "      <th>50%</th>\n",
       "      <th>75%</th>\n",
       "      <th>max</th>\n",
       "    </tr>\n",
       "  </thead>\n",
       "  <tbody>\n",
       "    <tr>\n",
       "      <th>elevation_ft</th>\n",
       "      <td>48069.0</td>\n",
       "      <td>1240.789677</td>\n",
       "      <td>1602.363459</td>\n",
       "      <td>-1266.0</td>\n",
       "      <td>205.0</td>\n",
       "      <td>718.0</td>\n",
       "      <td>1497.0</td>\n",
       "      <td>22000.0</td>\n",
       "    </tr>\n",
       "  </tbody>\n",
       "</table>\n",
       "</div>"
      ],
      "text/plain": [
       "                count         mean          std     min    25%    50%     75%  \\\n",
       "elevation_ft  48069.0  1240.789677  1602.363459 -1266.0  205.0  718.0  1497.0   \n",
       "\n",
       "                  max  \n",
       "elevation_ft  22000.0  "
      ]
     },
     "execution_count": 19,
     "metadata": {},
     "output_type": "execute_result"
    }
   ],
   "source": [
    "df_airport_code.describe().transpose()"
   ]
  },
  {
   "cell_type": "markdown",
   "metadata": {
    "editable": true
   },
   "source": [
    "###### Dataset features"
   ]
  },
  {
   "cell_type": "code",
   "execution_count": 20,
   "metadata": {
    "editable": true
   },
   "outputs": [
    {
     "data": {
      "text/plain": [
       "Index(['ident', 'type', 'name', 'elevation_ft', 'continent', 'iso_country',\n",
       "       'iso_region', 'municipality', 'gps_code', 'iata_code', 'local_code',\n",
       "       'coordinates'],\n",
       "      dtype='object')"
      ]
     },
     "execution_count": 20,
     "metadata": {},
     "output_type": "execute_result"
    }
   ],
   "source": [
    "df_airport_code.columns"
   ]
  },
  {
   "cell_type": "markdown",
   "metadata": {
    "editable": true
   },
   "source": [
    "###### Dimensions"
   ]
  },
  {
   "cell_type": "code",
   "execution_count": 21,
   "metadata": {
    "editable": true
   },
   "outputs": [
    {
     "data": {
      "text/plain": [
       "(55075, 12)"
      ]
     },
     "execution_count": 21,
     "metadata": {},
     "output_type": "execute_result"
    }
   ],
   "source": [
    "df_airport_code.shape"
   ]
  },
  {
   "cell_type": "markdown",
   "metadata": {
    "editable": true
   },
   "source": [
    "###### Data types"
   ]
  },
  {
   "cell_type": "code",
   "execution_count": 22,
   "metadata": {
    "editable": true
   },
   "outputs": [
    {
     "data": {
      "text/plain": [
       "ident            object\n",
       "type             object\n",
       "name             object\n",
       "elevation_ft    float64\n",
       "continent        object\n",
       "iso_country      object\n",
       "iso_region       object\n",
       "municipality     object\n",
       "gps_code         object\n",
       "iata_code        object\n",
       "local_code       object\n",
       "coordinates      object\n",
       "dtype: object"
      ]
     },
     "execution_count": 22,
     "metadata": {},
     "output_type": "execute_result"
    }
   ],
   "source": [
    "df_airport_code.dtypes"
   ]
  },
  {
   "cell_type": "markdown",
   "metadata": {
    "editable": true
   },
   "source": [
    "###### NaN "
   ]
  },
  {
   "cell_type": "code",
   "execution_count": 23,
   "metadata": {
    "editable": true
   },
   "outputs": [
    {
     "data": {
      "text/plain": [
       "iata_code       45886\n",
       "continent       27719\n",
       "local_code      26389\n",
       "gps_code        14045\n",
       "elevation_ft     7006\n",
       "municipality     5676\n",
       "iso_country       247\n",
       "coordinates         0\n",
       "iso_region          0\n",
       "name                0\n",
       "type                0\n",
       "ident               0\n",
       "dtype: int64"
      ]
     },
     "execution_count": 23,
     "metadata": {},
     "output_type": "execute_result"
    }
   ],
   "source": [
    "df_airport_code.isnull().sum().sort_values(ascending=False)"
   ]
  },
  {
   "cell_type": "markdown",
   "metadata": {
    "editable": true
   },
   "source": [
    "##### c.U.S. city demographics data\n",
    "\n",
    "This dataset contains 12 features or columns such as : City, State, Median Age, Total Population, Male Population, Female Population, Race etc."
   ]
  },
  {
   "cell_type": "markdown",
   "metadata": {
    "editable": true
   },
   "source": [
    "###### Getting general idea about the data"
   ]
  },
  {
   "cell_type": "code",
   "execution_count": 24,
   "metadata": {
    "editable": true
   },
   "outputs": [
    {
     "name": "stdout",
     "output_type": "stream",
     "text": [
      "<class 'pandas.core.frame.DataFrame'>\n",
      "RangeIndex: 2891 entries, 0 to 2890\n",
      "Data columns (total 12 columns):\n",
      "City                      2891 non-null object\n",
      "State                     2891 non-null object\n",
      "Median Age                2891 non-null float64\n",
      "Male Population           2888 non-null float64\n",
      "Female Population         2888 non-null float64\n",
      "Total Population          2891 non-null int64\n",
      "Number of Veterans        2878 non-null float64\n",
      "Foreign-born              2878 non-null float64\n",
      "Average Household Size    2875 non-null float64\n",
      "State Code                2891 non-null object\n",
      "Race                      2891 non-null object\n",
      "Count                     2891 non-null int64\n",
      "dtypes: float64(6), int64(2), object(4)\n",
      "memory usage: 271.1+ KB\n"
     ]
    }
   ],
   "source": [
    "df_us_city_demo.info()"
   ]
  },
  {
   "cell_type": "code",
   "execution_count": 25,
   "metadata": {
    "editable": true
   },
   "outputs": [
    {
     "data": {
      "text/html": [
       "<div>\n",
       "<style scoped>\n",
       "    .dataframe tbody tr th:only-of-type {\n",
       "        vertical-align: middle;\n",
       "    }\n",
       "\n",
       "    .dataframe tbody tr th {\n",
       "        vertical-align: top;\n",
       "    }\n",
       "\n",
       "    .dataframe thead th {\n",
       "        text-align: right;\n",
       "    }\n",
       "</style>\n",
       "<table border=\"1\" class=\"dataframe\">\n",
       "  <thead>\n",
       "    <tr style=\"text-align: right;\">\n",
       "      <th></th>\n",
       "      <th>count</th>\n",
       "      <th>mean</th>\n",
       "      <th>std</th>\n",
       "      <th>min</th>\n",
       "      <th>25%</th>\n",
       "      <th>50%</th>\n",
       "      <th>75%</th>\n",
       "      <th>max</th>\n",
       "    </tr>\n",
       "  </thead>\n",
       "  <tbody>\n",
       "    <tr>\n",
       "      <th>Median Age</th>\n",
       "      <td>2891.0</td>\n",
       "      <td>35.494881</td>\n",
       "      <td>4.401617</td>\n",
       "      <td>22.9</td>\n",
       "      <td>32.80</td>\n",
       "      <td>35.30</td>\n",
       "      <td>38.00</td>\n",
       "      <td>70.50</td>\n",
       "    </tr>\n",
       "    <tr>\n",
       "      <th>Male Population</th>\n",
       "      <td>2888.0</td>\n",
       "      <td>97328.426247</td>\n",
       "      <td>216299.936929</td>\n",
       "      <td>29281.0</td>\n",
       "      <td>39289.00</td>\n",
       "      <td>52341.00</td>\n",
       "      <td>86641.75</td>\n",
       "      <td>4081698.00</td>\n",
       "    </tr>\n",
       "    <tr>\n",
       "      <th>Female Population</th>\n",
       "      <td>2888.0</td>\n",
       "      <td>101769.630886</td>\n",
       "      <td>231564.572571</td>\n",
       "      <td>27348.0</td>\n",
       "      <td>41227.00</td>\n",
       "      <td>53809.00</td>\n",
       "      <td>89604.00</td>\n",
       "      <td>4468707.00</td>\n",
       "    </tr>\n",
       "    <tr>\n",
       "      <th>Total Population</th>\n",
       "      <td>2891.0</td>\n",
       "      <td>198966.779315</td>\n",
       "      <td>447555.929634</td>\n",
       "      <td>63215.0</td>\n",
       "      <td>80429.00</td>\n",
       "      <td>106782.00</td>\n",
       "      <td>175232.00</td>\n",
       "      <td>8550405.00</td>\n",
       "    </tr>\n",
       "    <tr>\n",
       "      <th>Number of Veterans</th>\n",
       "      <td>2878.0</td>\n",
       "      <td>9367.832523</td>\n",
       "      <td>13211.219924</td>\n",
       "      <td>416.0</td>\n",
       "      <td>3739.00</td>\n",
       "      <td>5397.00</td>\n",
       "      <td>9368.00</td>\n",
       "      <td>156961.00</td>\n",
       "    </tr>\n",
       "    <tr>\n",
       "      <th>Foreign-born</th>\n",
       "      <td>2878.0</td>\n",
       "      <td>40653.598680</td>\n",
       "      <td>155749.103665</td>\n",
       "      <td>861.0</td>\n",
       "      <td>9224.00</td>\n",
       "      <td>18822.00</td>\n",
       "      <td>33971.75</td>\n",
       "      <td>3212500.00</td>\n",
       "    </tr>\n",
       "    <tr>\n",
       "      <th>Average Household Size</th>\n",
       "      <td>2875.0</td>\n",
       "      <td>2.742543</td>\n",
       "      <td>0.433291</td>\n",
       "      <td>2.0</td>\n",
       "      <td>2.43</td>\n",
       "      <td>2.65</td>\n",
       "      <td>2.95</td>\n",
       "      <td>4.98</td>\n",
       "    </tr>\n",
       "    <tr>\n",
       "      <th>Count</th>\n",
       "      <td>2891.0</td>\n",
       "      <td>48963.774473</td>\n",
       "      <td>144385.588565</td>\n",
       "      <td>98.0</td>\n",
       "      <td>3435.00</td>\n",
       "      <td>13780.00</td>\n",
       "      <td>54447.00</td>\n",
       "      <td>3835726.00</td>\n",
       "    </tr>\n",
       "  </tbody>\n",
       "</table>\n",
       "</div>"
      ],
      "text/plain": [
       "                         count           mean            std      min  \\\n",
       "Median Age              2891.0      35.494881       4.401617     22.9   \n",
       "Male Population         2888.0   97328.426247  216299.936929  29281.0   \n",
       "Female Population       2888.0  101769.630886  231564.572571  27348.0   \n",
       "Total Population        2891.0  198966.779315  447555.929634  63215.0   \n",
       "Number of Veterans      2878.0    9367.832523   13211.219924    416.0   \n",
       "Foreign-born            2878.0   40653.598680  155749.103665    861.0   \n",
       "Average Household Size  2875.0       2.742543       0.433291      2.0   \n",
       "Count                   2891.0   48963.774473  144385.588565     98.0   \n",
       "\n",
       "                             25%        50%        75%         max  \n",
       "Median Age                 32.80      35.30      38.00       70.50  \n",
       "Male Population         39289.00   52341.00   86641.75  4081698.00  \n",
       "Female Population       41227.00   53809.00   89604.00  4468707.00  \n",
       "Total Population        80429.00  106782.00  175232.00  8550405.00  \n",
       "Number of Veterans       3739.00    5397.00    9368.00   156961.00  \n",
       "Foreign-born             9224.00   18822.00   33971.75  3212500.00  \n",
       "Average Household Size      2.43       2.65       2.95        4.98  \n",
       "Count                    3435.00   13780.00   54447.00  3835726.00  "
      ]
     },
     "execution_count": 25,
     "metadata": {},
     "output_type": "execute_result"
    }
   ],
   "source": [
    "df_us_city_demo.describe().transpose()"
   ]
  },
  {
   "cell_type": "markdown",
   "metadata": {
    "editable": true
   },
   "source": [
    "###### Dataset features"
   ]
  },
  {
   "cell_type": "code",
   "execution_count": 26,
   "metadata": {
    "editable": true
   },
   "outputs": [
    {
     "data": {
      "text/plain": [
       "Index(['City', 'State', 'Median Age', 'Male Population', 'Female Population',\n",
       "       'Total Population', 'Number of Veterans', 'Foreign-born',\n",
       "       'Average Household Size', 'State Code', 'Race', 'Count'],\n",
       "      dtype='object')"
      ]
     },
     "execution_count": 26,
     "metadata": {},
     "output_type": "execute_result"
    }
   ],
   "source": [
    "df_us_city_demo.columns"
   ]
  },
  {
   "cell_type": "markdown",
   "metadata": {
    "editable": true
   },
   "source": [
    "###### Data Dimensions "
   ]
  },
  {
   "cell_type": "code",
   "execution_count": 27,
   "metadata": {
    "editable": true
   },
   "outputs": [
    {
     "data": {
      "text/plain": [
       "(2891, 12)"
      ]
     },
     "execution_count": 27,
     "metadata": {},
     "output_type": "execute_result"
    }
   ],
   "source": [
    "df_us_city_demo.shape"
   ]
  },
  {
   "cell_type": "markdown",
   "metadata": {
    "editable": true
   },
   "source": [
    "###### Data types"
   ]
  },
  {
   "cell_type": "code",
   "execution_count": 28,
   "metadata": {
    "editable": true
   },
   "outputs": [
    {
     "data": {
      "text/plain": [
       "City                       object\n",
       "State                      object\n",
       "Median Age                float64\n",
       "Male Population           float64\n",
       "Female Population         float64\n",
       "Total Population            int64\n",
       "Number of Veterans        float64\n",
       "Foreign-born              float64\n",
       "Average Household Size    float64\n",
       "State Code                 object\n",
       "Race                       object\n",
       "Count                       int64\n",
       "dtype: object"
      ]
     },
     "execution_count": 28,
     "metadata": {},
     "output_type": "execute_result"
    }
   ],
   "source": [
    "df_us_city_demo.dtypes"
   ]
  },
  {
   "cell_type": "markdown",
   "metadata": {
    "editable": true
   },
   "source": [
    "##### NaN "
   ]
  },
  {
   "cell_type": "code",
   "execution_count": 29,
   "metadata": {
    "editable": true
   },
   "outputs": [
    {
     "data": {
      "text/plain": [
       "Average Household Size    16\n",
       "Foreign-born              13\n",
       "Number of Veterans        13\n",
       "Female Population          3\n",
       "Male Population            3\n",
       "Count                      0\n",
       "Race                       0\n",
       "State Code                 0\n",
       "Total Population           0\n",
       "Median Age                 0\n",
       "State                      0\n",
       "City                       0\n",
       "dtype: int64"
      ]
     },
     "execution_count": 29,
     "metadata": {},
     "output_type": "execute_result"
    }
   ],
   "source": [
    "df_us_city_demo.isnull().sum().sort_values(ascending=False)"
   ]
  },
  {
   "cell_type": "markdown",
   "metadata": {
    "editable": true
   },
   "source": [
    "##### d. World Temperatures data"
   ]
  },
  {
   "cell_type": "markdown",
   "metadata": {
    "editable": true
   },
   "source": [
    "###### Getting general idea about the data"
   ]
  },
  {
   "cell_type": "code",
   "execution_count": 30,
   "metadata": {
    "editable": true
   },
   "outputs": [
    {
     "name": "stdout",
     "output_type": "stream",
     "text": [
      "<class 'pandas.core.frame.DataFrame'>\n",
      "RangeIndex: 8599212 entries, 0 to 8599211\n",
      "Data columns (total 7 columns):\n",
      "dt                               object\n",
      "AverageTemperature               float64\n",
      "AverageTemperatureUncertainty    float64\n",
      "City                             object\n",
      "Country                          object\n",
      "Latitude                         object\n",
      "Longitude                        object\n",
      "dtypes: float64(2), object(5)\n",
      "memory usage: 459.2+ MB\n"
     ]
    }
   ],
   "source": [
    "df_World_Temperature.info()"
   ]
  },
  {
   "cell_type": "code",
   "execution_count": 31,
   "metadata": {
    "editable": true
   },
   "outputs": [
    {
     "data": {
      "text/html": [
       "<div>\n",
       "<style scoped>\n",
       "    .dataframe tbody tr th:only-of-type {\n",
       "        vertical-align: middle;\n",
       "    }\n",
       "\n",
       "    .dataframe tbody tr th {\n",
       "        vertical-align: top;\n",
       "    }\n",
       "\n",
       "    .dataframe thead th {\n",
       "        text-align: right;\n",
       "    }\n",
       "</style>\n",
       "<table border=\"1\" class=\"dataframe\">\n",
       "  <thead>\n",
       "    <tr style=\"text-align: right;\">\n",
       "      <th></th>\n",
       "      <th>count</th>\n",
       "      <th>mean</th>\n",
       "      <th>std</th>\n",
       "      <th>min</th>\n",
       "      <th>25%</th>\n",
       "      <th>50%</th>\n",
       "      <th>75%</th>\n",
       "      <th>max</th>\n",
       "    </tr>\n",
       "  </thead>\n",
       "  <tbody>\n",
       "    <tr>\n",
       "      <th>AverageTemperature</th>\n",
       "      <td>8235082.0</td>\n",
       "      <td>16.727433</td>\n",
       "      <td>10.353442</td>\n",
       "      <td>-42.704</td>\n",
       "      <td>10.299</td>\n",
       "      <td>18.831</td>\n",
       "      <td>25.210</td>\n",
       "      <td>39.651</td>\n",
       "    </tr>\n",
       "    <tr>\n",
       "      <th>AverageTemperatureUncertainty</th>\n",
       "      <td>8235082.0</td>\n",
       "      <td>1.028575</td>\n",
       "      <td>1.129733</td>\n",
       "      <td>0.034</td>\n",
       "      <td>0.337</td>\n",
       "      <td>0.591</td>\n",
       "      <td>1.349</td>\n",
       "      <td>15.396</td>\n",
       "    </tr>\n",
       "  </tbody>\n",
       "</table>\n",
       "</div>"
      ],
      "text/plain": [
       "                                   count       mean        std     min  \\\n",
       "AverageTemperature             8235082.0  16.727433  10.353442 -42.704   \n",
       "AverageTemperatureUncertainty  8235082.0   1.028575   1.129733   0.034   \n",
       "\n",
       "                                  25%     50%     75%     max  \n",
       "AverageTemperature             10.299  18.831  25.210  39.651  \n",
       "AverageTemperatureUncertainty   0.337   0.591   1.349  15.396  "
      ]
     },
     "execution_count": 31,
     "metadata": {},
     "output_type": "execute_result"
    }
   ],
   "source": [
    "df_World_Temperature.describe().transpose()"
   ]
  },
  {
   "cell_type": "markdown",
   "metadata": {
    "editable": true
   },
   "source": [
    "###### Dataset features"
   ]
  },
  {
   "cell_type": "code",
   "execution_count": 32,
   "metadata": {
    "editable": true
   },
   "outputs": [
    {
     "data": {
      "text/plain": [
       "Index(['dt', 'AverageTemperature', 'AverageTemperatureUncertainty', 'City',\n",
       "       'Country', 'Latitude', 'Longitude'],\n",
       "      dtype='object')"
      ]
     },
     "execution_count": 32,
     "metadata": {},
     "output_type": "execute_result"
    }
   ],
   "source": [
    "df_World_Temperature.columns"
   ]
  },
  {
   "cell_type": "markdown",
   "metadata": {
    "editable": true
   },
   "source": [
    "###### Data Dimensions"
   ]
  },
  {
   "cell_type": "code",
   "execution_count": 33,
   "metadata": {
    "editable": true
   },
   "outputs": [
    {
     "data": {
      "text/plain": [
       "(8599212, 7)"
      ]
     },
     "execution_count": 33,
     "metadata": {},
     "output_type": "execute_result"
    }
   ],
   "source": [
    "df_World_Temperature.shape"
   ]
  },
  {
   "cell_type": "markdown",
   "metadata": {
    "editable": true
   },
   "source": [
    "###### Data types"
   ]
  },
  {
   "cell_type": "code",
   "execution_count": 34,
   "metadata": {
    "editable": true
   },
   "outputs": [
    {
     "data": {
      "text/plain": [
       "dt                                object\n",
       "AverageTemperature               float64\n",
       "AverageTemperatureUncertainty    float64\n",
       "City                              object\n",
       "Country                           object\n",
       "Latitude                          object\n",
       "Longitude                         object\n",
       "dtype: object"
      ]
     },
     "execution_count": 34,
     "metadata": {},
     "output_type": "execute_result"
    }
   ],
   "source": [
    "df_World_Temperature.dtypes"
   ]
  },
  {
   "cell_type": "markdown",
   "metadata": {
    "editable": true
   },
   "source": [
    "###### NaN"
   ]
  },
  {
   "cell_type": "code",
   "execution_count": 35,
   "metadata": {
    "editable": true
   },
   "outputs": [
    {
     "data": {
      "text/plain": [
       "AverageTemperatureUncertainty    364130\n",
       "AverageTemperature               364130\n",
       "Longitude                             0\n",
       "Latitude                              0\n",
       "Country                               0\n",
       "City                                  0\n",
       "dt                                    0\n",
       "dtype: int64"
      ]
     },
     "execution_count": 35,
     "metadata": {},
     "output_type": "execute_result"
    }
   ],
   "source": [
    "df_World_Temperature.isnull().sum().sort_values(ascending=False)"
   ]
  },
  {
   "cell_type": "markdown",
   "metadata": {
    "editable": true
   },
   "source": [
    "#### Cleaning Steps\n",
    "The performed cleaning steps consists of the next tasks:\n",
    "- Detecing and removing missing values\n",
    "- Detecing and Removing duplicates\n",
    "- Renaming some columns to new ones"
   ]
  },
  {
   "cell_type": "markdown",
   "metadata": {
    "editable": true
   },
   "source": [
    "#### a.Cleaning I94 Immigration Data\n",
    "###### - Removing Missing values"
   ]
  },
  {
   "cell_type": "code",
   "execution_count": 36,
   "metadata": {
    "editable": true
   },
   "outputs": [
    {
     "data": {
      "text/plain": [
       "entdepu     1000\n",
       "occup        996\n",
       "insnum       965\n",
       "visapost     618\n",
       "gender       141\n",
       "i94addr       59\n",
       "depdate       49\n",
       "matflag       46\n",
       "entdepd       46\n",
       "airline       33\n",
       "fltno          8\n",
       "i94cit         0\n",
       "i94mon         0\n",
       "i94res         0\n",
       "i94yr          0\n",
       "i94port        0\n",
       "arrdate        0\n",
       "i94mode        0\n",
       "visatype       0\n",
       "dtadfile       0\n",
       "i94bir         0\n",
       "i94visa        0\n",
       "count          0\n",
       "entdepa        0\n",
       "biryear        0\n",
       "dtaddto        0\n",
       "admnum         0\n",
       "cicid          0\n",
       "dtype: int64"
      ]
     },
     "execution_count": 36,
     "metadata": {},
     "output_type": "execute_result"
    }
   ],
   "source": [
    "df_i94_migration.isnull().sum().sort_values(ascending=False)"
   ]
  },
  {
   "cell_type": "code",
   "execution_count": 37,
   "metadata": {
    "editable": true
   },
   "outputs": [],
   "source": [
    "df_i94_migration=df_i94_migration.dropna(subset=['airline', 'gender','visapost'])"
   ]
  },
  {
   "cell_type": "code",
   "execution_count": 38,
   "metadata": {
    "editable": true
   },
   "outputs": [
    {
     "data": {
      "text/html": [
       "<div>\n",
       "<style scoped>\n",
       "    .dataframe tbody tr th:only-of-type {\n",
       "        vertical-align: middle;\n",
       "    }\n",
       "\n",
       "    .dataframe tbody tr th {\n",
       "        vertical-align: top;\n",
       "    }\n",
       "\n",
       "    .dataframe thead th {\n",
       "        text-align: right;\n",
       "    }\n",
       "</style>\n",
       "<table border=\"1\" class=\"dataframe\">\n",
       "  <thead>\n",
       "    <tr style=\"text-align: right;\">\n",
       "      <th></th>\n",
       "      <th>cicid</th>\n",
       "      <th>i94yr</th>\n",
       "      <th>i94mon</th>\n",
       "      <th>i94cit</th>\n",
       "      <th>i94res</th>\n",
       "      <th>i94port</th>\n",
       "      <th>arrdate</th>\n",
       "      <th>i94mode</th>\n",
       "      <th>i94addr</th>\n",
       "      <th>depdate</th>\n",
       "      <th>...</th>\n",
       "      <th>entdepu</th>\n",
       "      <th>matflag</th>\n",
       "      <th>biryear</th>\n",
       "      <th>dtaddto</th>\n",
       "      <th>gender</th>\n",
       "      <th>insnum</th>\n",
       "      <th>airline</th>\n",
       "      <th>admnum</th>\n",
       "      <th>fltno</th>\n",
       "      <th>visatype</th>\n",
       "    </tr>\n",
       "  </thead>\n",
       "  <tbody>\n",
       "    <tr>\n",
       "      <th>1</th>\n",
       "      <td>4422636.0</td>\n",
       "      <td>2016.0</td>\n",
       "      <td>4.0</td>\n",
       "      <td>582.0</td>\n",
       "      <td>582.0</td>\n",
       "      <td>MCA</td>\n",
       "      <td>20567.0</td>\n",
       "      <td>1.0</td>\n",
       "      <td>TX</td>\n",
       "      <td>20568.0</td>\n",
       "      <td>...</td>\n",
       "      <td>NaN</td>\n",
       "      <td>M</td>\n",
       "      <td>1990.0</td>\n",
       "      <td>10222016</td>\n",
       "      <td>M</td>\n",
       "      <td>NaN</td>\n",
       "      <td>*GA</td>\n",
       "      <td>9.436200e+10</td>\n",
       "      <td>XBLNG</td>\n",
       "      <td>B2</td>\n",
       "    </tr>\n",
       "    <tr>\n",
       "      <th>3</th>\n",
       "      <td>5291768.0</td>\n",
       "      <td>2016.0</td>\n",
       "      <td>4.0</td>\n",
       "      <td>297.0</td>\n",
       "      <td>297.0</td>\n",
       "      <td>LOS</td>\n",
       "      <td>20572.0</td>\n",
       "      <td>1.0</td>\n",
       "      <td>CA</td>\n",
       "      <td>20581.0</td>\n",
       "      <td>...</td>\n",
       "      <td>NaN</td>\n",
       "      <td>M</td>\n",
       "      <td>1991.0</td>\n",
       "      <td>10272016</td>\n",
       "      <td>M</td>\n",
       "      <td>NaN</td>\n",
       "      <td>QR</td>\n",
       "      <td>9.478970e+10</td>\n",
       "      <td>00739</td>\n",
       "      <td>B2</td>\n",
       "    </tr>\n",
       "    <tr>\n",
       "      <th>13</th>\n",
       "      <td>4916639.0</td>\n",
       "      <td>2016.0</td>\n",
       "      <td>4.0</td>\n",
       "      <td>260.0</td>\n",
       "      <td>260.0</td>\n",
       "      <td>LOS</td>\n",
       "      <td>20570.0</td>\n",
       "      <td>1.0</td>\n",
       "      <td>CA</td>\n",
       "      <td>20581.0</td>\n",
       "      <td>...</td>\n",
       "      <td>NaN</td>\n",
       "      <td>M</td>\n",
       "      <td>1954.0</td>\n",
       "      <td>10252016</td>\n",
       "      <td>F</td>\n",
       "      <td>NaN</td>\n",
       "      <td>EK</td>\n",
       "      <td>9.461277e+10</td>\n",
       "      <td>00215</td>\n",
       "      <td>B2</td>\n",
       "    </tr>\n",
       "    <tr>\n",
       "      <th>16</th>\n",
       "      <td>1056530.0</td>\n",
       "      <td>2016.0</td>\n",
       "      <td>4.0</td>\n",
       "      <td>512.0</td>\n",
       "      <td>512.0</td>\n",
       "      <td>NAS</td>\n",
       "      <td>20550.0</td>\n",
       "      <td>1.0</td>\n",
       "      <td>GA</td>\n",
       "      <td>20552.0</td>\n",
       "      <td>...</td>\n",
       "      <td>NaN</td>\n",
       "      <td>M</td>\n",
       "      <td>1995.0</td>\n",
       "      <td>10052016</td>\n",
       "      <td>F</td>\n",
       "      <td>NaN</td>\n",
       "      <td>DL</td>\n",
       "      <td>9.285800e+10</td>\n",
       "      <td>00554</td>\n",
       "      <td>B2</td>\n",
       "    </tr>\n",
       "    <tr>\n",
       "      <th>18</th>\n",
       "      <td>4668286.0</td>\n",
       "      <td>2016.0</td>\n",
       "      <td>4.0</td>\n",
       "      <td>746.0</td>\n",
       "      <td>158.0</td>\n",
       "      <td>SEA</td>\n",
       "      <td>20568.0</td>\n",
       "      <td>1.0</td>\n",
       "      <td>NV</td>\n",
       "      <td>20571.0</td>\n",
       "      <td>...</td>\n",
       "      <td>NaN</td>\n",
       "      <td>M</td>\n",
       "      <td>1970.0</td>\n",
       "      <td>10232016</td>\n",
       "      <td>M</td>\n",
       "      <td>NaN</td>\n",
       "      <td>DL</td>\n",
       "      <td>9.443560e+10</td>\n",
       "      <td>00143</td>\n",
       "      <td>B2</td>\n",
       "    </tr>\n",
       "  </tbody>\n",
       "</table>\n",
       "<p>5 rows × 28 columns</p>\n",
       "</div>"
      ],
      "text/plain": [
       "        cicid   i94yr  i94mon  i94cit  i94res i94port  arrdate  i94mode  \\\n",
       "1   4422636.0  2016.0     4.0   582.0   582.0     MCA  20567.0      1.0   \n",
       "3   5291768.0  2016.0     4.0   297.0   297.0     LOS  20572.0      1.0   \n",
       "13  4916639.0  2016.0     4.0   260.0   260.0     LOS  20570.0      1.0   \n",
       "16  1056530.0  2016.0     4.0   512.0   512.0     NAS  20550.0      1.0   \n",
       "18  4668286.0  2016.0     4.0   746.0   158.0     SEA  20568.0      1.0   \n",
       "\n",
       "   i94addr  depdate   ...     entdepu  matflag  biryear   dtaddto gender  \\\n",
       "1       TX  20568.0   ...         NaN        M   1990.0  10222016      M   \n",
       "3       CA  20581.0   ...         NaN        M   1991.0  10272016      M   \n",
       "13      CA  20581.0   ...         NaN        M   1954.0  10252016      F   \n",
       "16      GA  20552.0   ...         NaN        M   1995.0  10052016      F   \n",
       "18      NV  20571.0   ...         NaN        M   1970.0  10232016      M   \n",
       "\n",
       "   insnum airline        admnum  fltno visatype  \n",
       "1     NaN     *GA  9.436200e+10  XBLNG       B2  \n",
       "3     NaN      QR  9.478970e+10  00739       B2  \n",
       "13    NaN      EK  9.461277e+10  00215       B2  \n",
       "16    NaN      DL  9.285800e+10  00554       B2  \n",
       "18    NaN      DL  9.443560e+10  00143       B2  \n",
       "\n",
       "[5 rows x 28 columns]"
      ]
     },
     "execution_count": 38,
     "metadata": {},
     "output_type": "execute_result"
    }
   ],
   "source": [
    "df_i94_migration.head()"
   ]
  },
  {
   "cell_type": "markdown",
   "metadata": {
    "editable": true
   },
   "source": [
    "##### Removing duplicates"
   ]
  },
  {
   "cell_type": "code",
   "execution_count": 39,
   "metadata": {
    "editable": true
   },
   "outputs": [
    {
     "data": {
      "text/plain": [
       "[False]"
      ]
     },
     "execution_count": 39,
     "metadata": {},
     "output_type": "execute_result"
    }
   ],
   "source": [
    "check_duplicate=[c for c in df_i94_migration.duplicated().unique()]\n",
    "check_duplicate# there is no duplicates"
   ]
  },
  {
   "cell_type": "markdown",
   "metadata": {
    "editable": true
   },
   "source": [
    "##### changing the columns names"
   ]
  },
  {
   "cell_type": "code",
   "execution_count": 40,
   "metadata": {
    "editable": true
   },
   "outputs": [
    {
     "data": {
      "text/plain": [
       "Index(['cicid', 'i94yr', 'i94mon', 'i94cit', 'i94res', 'i94port', 'arrdate',\n",
       "       'i94mode', 'i94addr', 'depdate', 'i94bir', 'i94visa', 'count',\n",
       "       'dtadfile', 'visapost', 'occup', 'entdepa', 'entdepd', 'entdepu',\n",
       "       'matflag', 'biryear', 'dtaddto', 'gender', 'insnum', 'airline',\n",
       "       'admnum', 'fltno', 'visatype'],\n",
       "      dtype='object')"
      ]
     },
     "execution_count": 40,
     "metadata": {},
     "output_type": "execute_result"
    }
   ],
   "source": [
    "df_i94_migration.columns"
   ]
  },
  {
   "cell_type": "code",
   "execution_count": 41,
   "metadata": {
    "editable": true
   },
   "outputs": [],
   "source": [
    "df_i94_migration.rename(columns={'i94yr': 'immig_year', 'i94mon': 'immig_month', 'i94cit':'city_code',\n",
    "                                'i94res':'country_code', 'i94port': 'departure_port', 'arrdate': 'arrival_date',\n",
    "                                'i94mode':'immig_mode','i94addr':'arrival_port', 'depdate':'departure_date',\n",
    "                                'i94bir':'age','i94visa':'visa_type', 'occup':'occupation',\n",
    "                                 'entdepa':'arrival_flag', 'entdepd':'departure_flag', 'matflag':'match_flag',\n",
    "                                'entdepu':'update_flag','biryear':'birth_year','dtaddto':'date_to_stay','insnum':'INSnum',\n",
    "                                'admnum':'admission_number','fltno':'flight_num','visatype':'admission_class'}, inplace=True)"
   ]
  },
  {
   "cell_type": "code",
   "execution_count": 42,
   "metadata": {
    "editable": true
   },
   "outputs": [
    {
     "data": {
      "text/plain": [
       "Index(['cicid', 'immig_year', 'immig_month', 'city_code', 'country_code',\n",
       "       'departure_port', 'arrival_date', 'immig_mode', 'arrival_port',\n",
       "       'departure_date', 'age', 'visa_type', 'count', 'dtadfile', 'visapost',\n",
       "       'occupation', 'arrival_flag', 'departure_flag', 'update_flag',\n",
       "       'match_flag', 'birth_year', 'date_to_stay', 'gender', 'INSnum',\n",
       "       'airline', 'admission_number', 'flight_num', 'admission_class'],\n",
       "      dtype='object')"
      ]
     },
     "execution_count": 42,
     "metadata": {},
     "output_type": "execute_result"
    }
   ],
   "source": [
    "df_i94_migration.columns"
   ]
  },
  {
   "cell_type": "markdown",
   "metadata": {
    "editable": true
   },
   "source": [
    "###### Converting columns type"
   ]
  },
  {
   "cell_type": "code",
   "execution_count": 43,
   "metadata": {
    "editable": true
   },
   "outputs": [],
   "source": [
    "df_i94_migration['city_code']=[int(c) for c in df_i94_migration['city_code']]\n",
    "df_i94_migration['country_code']=[int(c) for c in df_i94_migration['country_code']]\n",
    "df_i94_migration['age']=[int(c) for c in df_i94_migration['age']]\n",
    "df_i94_migration['birth_year']=[int(c) for c in df_i94_migration['birth_year']]\n",
    "df_i94_migration['admission_number']=[int(c) for c in df_i94_migration['admission_number']]\n",
    "df_i94_migration['arrival_date']=[int(c) for c in df_i94_migration['arrival_date']]\n",
    "df_i94_migration['departure_date']=[int(c) if (pd.isna(c)==False) else c for c in df_i94_migration['departure_date']]\n",
    "df_i94_migration['immig_mode']=[int(c) for c in df_i94_migration['immig_mode']]\n",
    "df_i94_migration['visa_type']=[int(c) for c in df_i94_migration['visa_type']]"
   ]
  },
  {
   "cell_type": "markdown",
   "metadata": {
    "editable": true
   },
   "source": [
    "#### b.Cleaning airport data\n",
    "##### Removing missing values"
   ]
  },
  {
   "cell_type": "code",
   "execution_count": 44,
   "metadata": {
    "editable": true
   },
   "outputs": [
    {
     "data": {
      "text/plain": [
       "iata_code       45886\n",
       "continent       27719\n",
       "local_code      26389\n",
       "gps_code        14045\n",
       "elevation_ft     7006\n",
       "municipality     5676\n",
       "iso_country       247\n",
       "coordinates         0\n",
       "iso_region          0\n",
       "name                0\n",
       "type                0\n",
       "ident               0\n",
       "dtype: int64"
      ]
     },
     "execution_count": 44,
     "metadata": {},
     "output_type": "execute_result"
    }
   ],
   "source": [
    "df_airport_code.isnull().sum().sort_values(ascending=False)"
   ]
  },
  {
   "cell_type": "code",
   "execution_count": 45,
   "metadata": {
    "editable": true
   },
   "outputs": [],
   "source": [
    "df_airport_code=df_airport_code.dropna()"
   ]
  },
  {
   "cell_type": "markdown",
   "metadata": {
    "editable": true
   },
   "source": [
    "##### Removing duplicates"
   ]
  },
  {
   "cell_type": "code",
   "execution_count": 46,
   "metadata": {
    "editable": true
   },
   "outputs": [
    {
     "data": {
      "text/plain": [
       "[False]"
      ]
     },
     "execution_count": 46,
     "metadata": {},
     "output_type": "execute_result"
    }
   ],
   "source": [
    "df_airport_code.duplicated()\n",
    "duplic_lists=[c for c in df_airport_code.duplicated().unique()]\n",
    "duplic_lists"
   ]
  },
  {
   "cell_type": "code",
   "execution_count": 47,
   "metadata": {
    "editable": true
   },
   "outputs": [
    {
     "data": {
      "text/html": [
       "<div>\n",
       "<style scoped>\n",
       "    .dataframe tbody tr th:only-of-type {\n",
       "        vertical-align: middle;\n",
       "    }\n",
       "\n",
       "    .dataframe tbody tr th {\n",
       "        vertical-align: top;\n",
       "    }\n",
       "\n",
       "    .dataframe thead th {\n",
       "        text-align: right;\n",
       "    }\n",
       "</style>\n",
       "<table border=\"1\" class=\"dataframe\">\n",
       "  <thead>\n",
       "    <tr style=\"text-align: right;\">\n",
       "      <th></th>\n",
       "      <th>ident</th>\n",
       "      <th>type</th>\n",
       "      <th>name</th>\n",
       "      <th>elevation_ft</th>\n",
       "      <th>continent</th>\n",
       "      <th>iso_country</th>\n",
       "      <th>iso_region</th>\n",
       "      <th>municipality</th>\n",
       "      <th>gps_code</th>\n",
       "      <th>iata_code</th>\n",
       "      <th>local_code</th>\n",
       "      <th>coordinates</th>\n",
       "    </tr>\n",
       "  </thead>\n",
       "  <tbody>\n",
       "    <tr>\n",
       "      <th>0</th>\n",
       "      <td>03N</td>\n",
       "      <td>small_airport</td>\n",
       "      <td>Utirik Airport</td>\n",
       "      <td>4.0</td>\n",
       "      <td>OC</td>\n",
       "      <td>MH</td>\n",
       "      <td>MH-UTI</td>\n",
       "      <td>Utirik Island</td>\n",
       "      <td>K03N</td>\n",
       "      <td>UTK</td>\n",
       "      <td>03N</td>\n",
       "      <td>169.852005, 11.222</td>\n",
       "    </tr>\n",
       "    <tr>\n",
       "      <th>1</th>\n",
       "      <td>ADC</td>\n",
       "      <td>small_airport</td>\n",
       "      <td>Andakombe Airport</td>\n",
       "      <td>3600.0</td>\n",
       "      <td>OC</td>\n",
       "      <td>PG</td>\n",
       "      <td>PG-EHG</td>\n",
       "      <td>Andekombe</td>\n",
       "      <td>AYAN</td>\n",
       "      <td>ADC</td>\n",
       "      <td>ADK</td>\n",
       "      <td>145.744722222, -7.13722222222</td>\n",
       "    </tr>\n",
       "    <tr>\n",
       "      <th>2</th>\n",
       "      <td>AEK</td>\n",
       "      <td>small_airport</td>\n",
       "      <td>Aseki Airport</td>\n",
       "      <td>4106.0</td>\n",
       "      <td>OC</td>\n",
       "      <td>PG</td>\n",
       "      <td>PG-MPL</td>\n",
       "      <td>Aseki</td>\n",
       "      <td>AYAX</td>\n",
       "      <td>AEK</td>\n",
       "      <td>ASE</td>\n",
       "      <td>146.19386673, -7.35080485552</td>\n",
       "    </tr>\n",
       "    <tr>\n",
       "      <th>3</th>\n",
       "      <td>AIE</td>\n",
       "      <td>small_airport</td>\n",
       "      <td>Aiome Airport</td>\n",
       "      <td>350.0</td>\n",
       "      <td>OC</td>\n",
       "      <td>PG</td>\n",
       "      <td>PG-MPM</td>\n",
       "      <td>Aiome</td>\n",
       "      <td>AYAO</td>\n",
       "      <td>AIE</td>\n",
       "      <td>AIO</td>\n",
       "      <td>144.7307003, -5.145699978</td>\n",
       "    </tr>\n",
       "    <tr>\n",
       "      <th>4</th>\n",
       "      <td>AIH</td>\n",
       "      <td>small_airport</td>\n",
       "      <td>Aiambak Airport</td>\n",
       "      <td>90.0</td>\n",
       "      <td>OC</td>\n",
       "      <td>PG</td>\n",
       "      <td>PG-WPD</td>\n",
       "      <td>Aiambak</td>\n",
       "      <td>AYAK</td>\n",
       "      <td>AIH</td>\n",
       "      <td>AMB</td>\n",
       "      <td>141.2675, -7.342777777779999</td>\n",
       "    </tr>\n",
       "  </tbody>\n",
       "</table>\n",
       "</div>"
      ],
      "text/plain": [
       "  ident           type               name  elevation_ft continent iso_country  \\\n",
       "0   03N  small_airport     Utirik Airport           4.0        OC          MH   \n",
       "1   ADC  small_airport  Andakombe Airport        3600.0        OC          PG   \n",
       "2   AEK  small_airport      Aseki Airport        4106.0        OC          PG   \n",
       "3   AIE  small_airport      Aiome Airport         350.0        OC          PG   \n",
       "4   AIH  small_airport    Aiambak Airport          90.0        OC          PG   \n",
       "\n",
       "  iso_region   municipality gps_code iata_code local_code  \\\n",
       "0     MH-UTI  Utirik Island     K03N       UTK        03N   \n",
       "1     PG-EHG      Andekombe     AYAN       ADC        ADK   \n",
       "2     PG-MPL          Aseki     AYAX       AEK        ASE   \n",
       "3     PG-MPM          Aiome     AYAO       AIE        AIO   \n",
       "4     PG-WPD        Aiambak     AYAK       AIH        AMB   \n",
       "\n",
       "                     coordinates  \n",
       "0             169.852005, 11.222  \n",
       "1  145.744722222, -7.13722222222  \n",
       "2   146.19386673, -7.35080485552  \n",
       "3      144.7307003, -5.145699978  \n",
       "4   141.2675, -7.342777777779999  "
      ]
     },
     "execution_count": 47,
     "metadata": {},
     "output_type": "execute_result"
    }
   ],
   "source": [
    "df_airport_code=df_airport_code.drop_duplicates()\n",
    "df_airport_code.reset_index(drop=True, inplace=True)\n",
    "df_airport_code.head()"
   ]
  },
  {
   "cell_type": "markdown",
   "metadata": {
    "editable": true
   },
   "source": [
    "##### changing the columns names"
   ]
  },
  {
   "cell_type": "code",
   "execution_count": 48,
   "metadata": {
    "editable": true
   },
   "outputs": [
    {
     "data": {
      "text/plain": [
       "Index(['ident', 'type', 'name', 'elevation_ft', 'continent', 'iso_country',\n",
       "       'iso_region', 'municipality', 'gps_code', 'iata_code', 'local_code',\n",
       "       'coordinates'],\n",
       "      dtype='object')"
      ]
     },
     "execution_count": 48,
     "metadata": {},
     "output_type": "execute_result"
    }
   ],
   "source": [
    "df_airport_code.columns"
   ]
  },
  {
   "cell_type": "code",
   "execution_count": 49,
   "metadata": {
    "editable": true
   },
   "outputs": [
    {
     "data": {
      "text/html": [
       "<div>\n",
       "<style scoped>\n",
       "    .dataframe tbody tr th:only-of-type {\n",
       "        vertical-align: middle;\n",
       "    }\n",
       "\n",
       "    .dataframe tbody tr th {\n",
       "        vertical-align: top;\n",
       "    }\n",
       "\n",
       "    .dataframe thead th {\n",
       "        text-align: right;\n",
       "    }\n",
       "</style>\n",
       "<table border=\"1\" class=\"dataframe\">\n",
       "  <thead>\n",
       "    <tr style=\"text-align: right;\">\n",
       "      <th></th>\n",
       "      <th>type</th>\n",
       "      <th>name</th>\n",
       "      <th>country</th>\n",
       "      <th>region</th>\n",
       "      <th>municipality</th>\n",
       "      <th>IATA_code</th>\n",
       "      <th>local_code</th>\n",
       "    </tr>\n",
       "  </thead>\n",
       "  <tbody>\n",
       "    <tr>\n",
       "      <th>0</th>\n",
       "      <td>small_airport</td>\n",
       "      <td>Utirik Airport</td>\n",
       "      <td>MH</td>\n",
       "      <td>MH-UTI</td>\n",
       "      <td>Utirik Island</td>\n",
       "      <td>UTK</td>\n",
       "      <td>03N</td>\n",
       "    </tr>\n",
       "  </tbody>\n",
       "</table>\n",
       "</div>"
      ],
      "text/plain": [
       "            type            name country  region   municipality IATA_code  \\\n",
       "0  small_airport  Utirik Airport      MH  MH-UTI  Utirik Island       UTK   \n",
       "\n",
       "  local_code  \n",
       "0        03N  "
      ]
     },
     "execution_count": 49,
     "metadata": {},
     "output_type": "execute_result"
    }
   ],
   "source": [
    "airport_col=['type', 'name', 'iso_country', 'iso_region', 'municipality', 'iata_code', 'local_code']\n",
    "df_airport_code=df_airport_code[airport_col]\n",
    "df_airport_code.rename(columns={'iso_country':'country','iso_region':'region','iata_code':'IATA_code'}, inplace=True)\n",
    "df_airport_code.head(1)"
   ]
  },
  {
   "cell_type": "markdown",
   "metadata": {
    "editable": true
   },
   "source": [
    "#### d.Cleaning city demographics data"
   ]
  },
  {
   "cell_type": "markdown",
   "metadata": {
    "editable": true
   },
   "source": [
    "##### Removing missing values"
   ]
  },
  {
   "cell_type": "code",
   "execution_count": 50,
   "metadata": {
    "editable": true
   },
   "outputs": [
    {
     "data": {
      "text/plain": [
       "Average Household Size    16\n",
       "Foreign-born              13\n",
       "Number of Veterans        13\n",
       "Female Population          3\n",
       "Male Population            3\n",
       "Count                      0\n",
       "Race                       0\n",
       "State Code                 0\n",
       "Total Population           0\n",
       "Median Age                 0\n",
       "State                      0\n",
       "City                       0\n",
       "dtype: int64"
      ]
     },
     "execution_count": 50,
     "metadata": {},
     "output_type": "execute_result"
    }
   ],
   "source": [
    "df_us_city_demo.isnull().sum().sort_values(ascending=False)"
   ]
  },
  {
   "cell_type": "code",
   "execution_count": 51,
   "metadata": {
    "editable": true
   },
   "outputs": [
    {
     "data": {
      "text/html": [
       "<div>\n",
       "<style scoped>\n",
       "    .dataframe tbody tr th:only-of-type {\n",
       "        vertical-align: middle;\n",
       "    }\n",
       "\n",
       "    .dataframe tbody tr th {\n",
       "        vertical-align: top;\n",
       "    }\n",
       "\n",
       "    .dataframe thead th {\n",
       "        text-align: right;\n",
       "    }\n",
       "</style>\n",
       "<table border=\"1\" class=\"dataframe\">\n",
       "  <thead>\n",
       "    <tr style=\"text-align: right;\">\n",
       "      <th></th>\n",
       "      <th>City</th>\n",
       "      <th>State</th>\n",
       "      <th>Median Age</th>\n",
       "      <th>Male Population</th>\n",
       "      <th>Female Population</th>\n",
       "      <th>Total Population</th>\n",
       "      <th>Number of Veterans</th>\n",
       "      <th>Foreign-born</th>\n",
       "      <th>Average Household Size</th>\n",
       "      <th>State Code</th>\n",
       "      <th>Race</th>\n",
       "      <th>Count</th>\n",
       "    </tr>\n",
       "  </thead>\n",
       "  <tbody>\n",
       "    <tr>\n",
       "      <th>0</th>\n",
       "      <td>Silver Spring</td>\n",
       "      <td>Maryland</td>\n",
       "      <td>33.8</td>\n",
       "      <td>40601.0</td>\n",
       "      <td>41862.0</td>\n",
       "      <td>82463</td>\n",
       "      <td>1562.0</td>\n",
       "      <td>30908.0</td>\n",
       "      <td>2.60</td>\n",
       "      <td>MD</td>\n",
       "      <td>Hispanic or Latino</td>\n",
       "      <td>25924</td>\n",
       "    </tr>\n",
       "    <tr>\n",
       "      <th>1</th>\n",
       "      <td>Quincy</td>\n",
       "      <td>Massachusetts</td>\n",
       "      <td>41.0</td>\n",
       "      <td>44129.0</td>\n",
       "      <td>49500.0</td>\n",
       "      <td>93629</td>\n",
       "      <td>4147.0</td>\n",
       "      <td>32935.0</td>\n",
       "      <td>2.39</td>\n",
       "      <td>MA</td>\n",
       "      <td>White</td>\n",
       "      <td>58723</td>\n",
       "    </tr>\n",
       "    <tr>\n",
       "      <th>2</th>\n",
       "      <td>Hoover</td>\n",
       "      <td>Alabama</td>\n",
       "      <td>38.5</td>\n",
       "      <td>38040.0</td>\n",
       "      <td>46799.0</td>\n",
       "      <td>84839</td>\n",
       "      <td>4819.0</td>\n",
       "      <td>8229.0</td>\n",
       "      <td>2.58</td>\n",
       "      <td>AL</td>\n",
       "      <td>Asian</td>\n",
       "      <td>4759</td>\n",
       "    </tr>\n",
       "    <tr>\n",
       "      <th>3</th>\n",
       "      <td>Rancho Cucamonga</td>\n",
       "      <td>California</td>\n",
       "      <td>34.5</td>\n",
       "      <td>88127.0</td>\n",
       "      <td>87105.0</td>\n",
       "      <td>175232</td>\n",
       "      <td>5821.0</td>\n",
       "      <td>33878.0</td>\n",
       "      <td>3.18</td>\n",
       "      <td>CA</td>\n",
       "      <td>Black or African-American</td>\n",
       "      <td>24437</td>\n",
       "    </tr>\n",
       "    <tr>\n",
       "      <th>4</th>\n",
       "      <td>Newark</td>\n",
       "      <td>New Jersey</td>\n",
       "      <td>34.6</td>\n",
       "      <td>138040.0</td>\n",
       "      <td>143873.0</td>\n",
       "      <td>281913</td>\n",
       "      <td>5829.0</td>\n",
       "      <td>86253.0</td>\n",
       "      <td>2.73</td>\n",
       "      <td>NJ</td>\n",
       "      <td>White</td>\n",
       "      <td>76402</td>\n",
       "    </tr>\n",
       "  </tbody>\n",
       "</table>\n",
       "</div>"
      ],
      "text/plain": [
       "               City          State  Median Age  Male Population  \\\n",
       "0     Silver Spring       Maryland        33.8          40601.0   \n",
       "1            Quincy  Massachusetts        41.0          44129.0   \n",
       "2            Hoover        Alabama        38.5          38040.0   \n",
       "3  Rancho Cucamonga     California        34.5          88127.0   \n",
       "4            Newark     New Jersey        34.6         138040.0   \n",
       "\n",
       "   Female Population  Total Population  Number of Veterans  Foreign-born  \\\n",
       "0            41862.0             82463              1562.0       30908.0   \n",
       "1            49500.0             93629              4147.0       32935.0   \n",
       "2            46799.0             84839              4819.0        8229.0   \n",
       "3            87105.0            175232              5821.0       33878.0   \n",
       "4           143873.0            281913              5829.0       86253.0   \n",
       "\n",
       "   Average Household Size State Code                       Race  Count  \n",
       "0                    2.60         MD         Hispanic or Latino  25924  \n",
       "1                    2.39         MA                      White  58723  \n",
       "2                    2.58         AL                      Asian   4759  \n",
       "3                    3.18         CA  Black or African-American  24437  \n",
       "4                    2.73         NJ                      White  76402  "
      ]
     },
     "execution_count": 51,
     "metadata": {},
     "output_type": "execute_result"
    }
   ],
   "source": [
    "df_us_city_demo=df_us_city_demo.dropna()\n",
    "df_us_city_demo.head()"
   ]
  },
  {
   "cell_type": "markdown",
   "metadata": {
    "editable": true
   },
   "source": [
    "##### Removing duplicates"
   ]
  },
  {
   "cell_type": "code",
   "execution_count": 52,
   "metadata": {
    "editable": true
   },
   "outputs": [
    {
     "data": {
      "text/plain": [
       "[False]"
      ]
     },
     "execution_count": 52,
     "metadata": {},
     "output_type": "execute_result"
    }
   ],
   "source": [
    "df_us_city_demo.duplicated()\n",
    "duplic_lists=[c for c in df_us_city_demo.duplicated().unique()]\n",
    "duplic_lists"
   ]
  },
  {
   "cell_type": "markdown",
   "metadata": {
    "editable": true
   },
   "source": [
    "##### Changing the columns names"
   ]
  },
  {
   "cell_type": "code",
   "execution_count": 53,
   "metadata": {
    "editable": true
   },
   "outputs": [
    {
     "data": {
      "text/plain": [
       "Index(['City', 'State', 'Median Age', 'Male Population', 'Female Population',\n",
       "       'Total Population', 'Number of Veterans', 'Foreign-born',\n",
       "       'Average Household Size', 'State Code', 'Race', 'Count'],\n",
       "      dtype='object')"
      ]
     },
     "execution_count": 53,
     "metadata": {},
     "output_type": "execute_result"
    }
   ],
   "source": [
    "df_us_city_demo.columns"
   ]
  },
  {
   "cell_type": "code",
   "execution_count": 54,
   "metadata": {
    "editable": true
   },
   "outputs": [
    {
     "data": {
      "text/html": [
       "<div>\n",
       "<style scoped>\n",
       "    .dataframe tbody tr th:only-of-type {\n",
       "        vertical-align: middle;\n",
       "    }\n",
       "\n",
       "    .dataframe tbody tr th {\n",
       "        vertical-align: top;\n",
       "    }\n",
       "\n",
       "    .dataframe thead th {\n",
       "        text-align: right;\n",
       "    }\n",
       "</style>\n",
       "<table border=\"1\" class=\"dataframe\">\n",
       "  <thead>\n",
       "    <tr style=\"text-align: right;\">\n",
       "      <th></th>\n",
       "      <th>City</th>\n",
       "      <th>State</th>\n",
       "      <th>Median Age</th>\n",
       "      <th>Male Population</th>\n",
       "      <th>Female Population</th>\n",
       "      <th>Total Population</th>\n",
       "      <th>Number of Veterans</th>\n",
       "      <th>Foreign-born</th>\n",
       "      <th>Average Household Size</th>\n",
       "      <th>State Code</th>\n",
       "      <th>Race</th>\n",
       "      <th>Count</th>\n",
       "    </tr>\n",
       "  </thead>\n",
       "  <tbody>\n",
       "    <tr>\n",
       "      <th>0</th>\n",
       "      <td>Silver Spring</td>\n",
       "      <td>Maryland</td>\n",
       "      <td>33.8</td>\n",
       "      <td>40601.0</td>\n",
       "      <td>41862.0</td>\n",
       "      <td>82463</td>\n",
       "      <td>1562.0</td>\n",
       "      <td>30908.0</td>\n",
       "      <td>2.60</td>\n",
       "      <td>MD</td>\n",
       "      <td>Hispanic or Latino</td>\n",
       "      <td>25924</td>\n",
       "    </tr>\n",
       "    <tr>\n",
       "      <th>1</th>\n",
       "      <td>Quincy</td>\n",
       "      <td>Massachusetts</td>\n",
       "      <td>41.0</td>\n",
       "      <td>44129.0</td>\n",
       "      <td>49500.0</td>\n",
       "      <td>93629</td>\n",
       "      <td>4147.0</td>\n",
       "      <td>32935.0</td>\n",
       "      <td>2.39</td>\n",
       "      <td>MA</td>\n",
       "      <td>White</td>\n",
       "      <td>58723</td>\n",
       "    </tr>\n",
       "  </tbody>\n",
       "</table>\n",
       "</div>"
      ],
      "text/plain": [
       "            City          State  Median Age  Male Population  \\\n",
       "0  Silver Spring       Maryland        33.8          40601.0   \n",
       "1         Quincy  Massachusetts        41.0          44129.0   \n",
       "\n",
       "   Female Population  Total Population  Number of Veterans  Foreign-born  \\\n",
       "0            41862.0             82463              1562.0       30908.0   \n",
       "1            49500.0             93629              4147.0       32935.0   \n",
       "\n",
       "   Average Household Size State Code                Race  Count  \n",
       "0                    2.60         MD  Hispanic or Latino  25924  \n",
       "1                    2.39         MA               White  58723  "
      ]
     },
     "execution_count": 54,
     "metadata": {},
     "output_type": "execute_result"
    }
   ],
   "source": [
    "df_us_city_demo.head(2)"
   ]
  },
  {
   "cell_type": "code",
   "execution_count": 55,
   "metadata": {
    "editable": true
   },
   "outputs": [],
   "source": [
    "df_us_city_demo.rename(columns={'Male Population':'male_portion','Female Population':'female_portion','Total Population':'total_portion',\n",
    "                               'Foreign-born':'foreign_born','Median Age':'median_age', 'Number of Veterans':'num_veterans',\n",
    "                               'Average Household Size':'avg_houshold_size', 'City':'city','State':'state','Race':'race'}, inplace=True)"
   ]
  },
  {
   "cell_type": "code",
   "execution_count": 56,
   "metadata": {
    "editable": true
   },
   "outputs": [
    {
     "data": {
      "text/plain": [
       "Index(['city', 'state', 'median_age', 'male_portion', 'female_portion',\n",
       "       'total_portion', 'num_veterans', 'foreign_born', 'avg_houshold_size',\n",
       "       'State Code', 'race', 'Count'],\n",
       "      dtype='object')"
      ]
     },
     "execution_count": 56,
     "metadata": {},
     "output_type": "execute_result"
    }
   ],
   "source": [
    "df_us_city_demo.columns"
   ]
  },
  {
   "cell_type": "code",
   "execution_count": 57,
   "metadata": {
    "editable": true
   },
   "outputs": [],
   "source": [
    "df_us_city_demo['num_veterans']=[int(x) for x in df_us_city_demo.num_veterans]"
   ]
  },
  {
   "cell_type": "markdown",
   "metadata": {
    "editable": true
   },
   "source": [
    "#### d.Cleaning World Temperatures data\n",
    "##### Removing missing values"
   ]
  },
  {
   "cell_type": "code",
   "execution_count": 58,
   "metadata": {
    "editable": true
   },
   "outputs": [
    {
     "data": {
      "text/plain": [
       "AverageTemperatureUncertainty    364130\n",
       "AverageTemperature               364130\n",
       "Longitude                             0\n",
       "Latitude                              0\n",
       "Country                               0\n",
       "City                                  0\n",
       "dt                                    0\n",
       "dtype: int64"
      ]
     },
     "execution_count": 58,
     "metadata": {},
     "output_type": "execute_result"
    }
   ],
   "source": [
    "df_World_Temperature.isnull().sum().sort_values(ascending=False)"
   ]
  },
  {
   "cell_type": "code",
   "execution_count": 59,
   "metadata": {
    "editable": true
   },
   "outputs": [
    {
     "data": {
      "text/html": [
       "<div>\n",
       "<style scoped>\n",
       "    .dataframe tbody tr th:only-of-type {\n",
       "        vertical-align: middle;\n",
       "    }\n",
       "\n",
       "    .dataframe tbody tr th {\n",
       "        vertical-align: top;\n",
       "    }\n",
       "\n",
       "    .dataframe thead th {\n",
       "        text-align: right;\n",
       "    }\n",
       "</style>\n",
       "<table border=\"1\" class=\"dataframe\">\n",
       "  <thead>\n",
       "    <tr style=\"text-align: right;\">\n",
       "      <th></th>\n",
       "      <th>dt</th>\n",
       "      <th>AverageTemperature</th>\n",
       "      <th>AverageTemperatureUncertainty</th>\n",
       "      <th>City</th>\n",
       "      <th>Country</th>\n",
       "      <th>Latitude</th>\n",
       "      <th>Longitude</th>\n",
       "    </tr>\n",
       "  </thead>\n",
       "  <tbody>\n",
       "    <tr>\n",
       "      <th>0</th>\n",
       "      <td>1743-11-01</td>\n",
       "      <td>6.068</td>\n",
       "      <td>1.737</td>\n",
       "      <td>Århus</td>\n",
       "      <td>Denmark</td>\n",
       "      <td>57.05N</td>\n",
       "      <td>10.33E</td>\n",
       "    </tr>\n",
       "    <tr>\n",
       "      <th>1</th>\n",
       "      <td>1744-04-01</td>\n",
       "      <td>5.788</td>\n",
       "      <td>3.624</td>\n",
       "      <td>Århus</td>\n",
       "      <td>Denmark</td>\n",
       "      <td>57.05N</td>\n",
       "      <td>10.33E</td>\n",
       "    </tr>\n",
       "    <tr>\n",
       "      <th>2</th>\n",
       "      <td>1744-05-01</td>\n",
       "      <td>10.644</td>\n",
       "      <td>1.283</td>\n",
       "      <td>Århus</td>\n",
       "      <td>Denmark</td>\n",
       "      <td>57.05N</td>\n",
       "      <td>10.33E</td>\n",
       "    </tr>\n",
       "    <tr>\n",
       "      <th>3</th>\n",
       "      <td>1744-06-01</td>\n",
       "      <td>14.051</td>\n",
       "      <td>1.347</td>\n",
       "      <td>Århus</td>\n",
       "      <td>Denmark</td>\n",
       "      <td>57.05N</td>\n",
       "      <td>10.33E</td>\n",
       "    </tr>\n",
       "    <tr>\n",
       "      <th>4</th>\n",
       "      <td>1744-07-01</td>\n",
       "      <td>16.082</td>\n",
       "      <td>1.396</td>\n",
       "      <td>Århus</td>\n",
       "      <td>Denmark</td>\n",
       "      <td>57.05N</td>\n",
       "      <td>10.33E</td>\n",
       "    </tr>\n",
       "  </tbody>\n",
       "</table>\n",
       "</div>"
      ],
      "text/plain": [
       "           dt  AverageTemperature  AverageTemperatureUncertainty   City  \\\n",
       "0  1743-11-01               6.068                          1.737  Århus   \n",
       "1  1744-04-01               5.788                          3.624  Århus   \n",
       "2  1744-05-01              10.644                          1.283  Århus   \n",
       "3  1744-06-01              14.051                          1.347  Århus   \n",
       "4  1744-07-01              16.082                          1.396  Århus   \n",
       "\n",
       "   Country Latitude Longitude  \n",
       "0  Denmark   57.05N    10.33E  \n",
       "1  Denmark   57.05N    10.33E  \n",
       "2  Denmark   57.05N    10.33E  \n",
       "3  Denmark   57.05N    10.33E  \n",
       "4  Denmark   57.05N    10.33E  "
      ]
     },
     "execution_count": 59,
     "metadata": {},
     "output_type": "execute_result"
    }
   ],
   "source": [
    "df_World_Temperature=df_World_Temperature.dropna()\n",
    "df_World_Temperature.reset_index(drop=True, inplace=True)\n",
    "df_World_Temperature.head()"
   ]
  },
  {
   "cell_type": "markdown",
   "metadata": {
    "editable": true
   },
   "source": [
    "##### Removing duplicates"
   ]
  },
  {
   "cell_type": "code",
   "execution_count": 60,
   "metadata": {
    "editable": true
   },
   "outputs": [
    {
     "data": {
      "text/plain": [
       "[False]"
      ]
     },
     "execution_count": 60,
     "metadata": {},
     "output_type": "execute_result"
    }
   ],
   "source": [
    "df_World_Temperature.duplicated()\n",
    "duplic_lists=[c for c in df_World_Temperature.duplicated().unique()]\n",
    "duplic_lists"
   ]
  },
  {
   "cell_type": "markdown",
   "metadata": {
    "editable": true
   },
   "source": [
    "##### Changing the columns names"
   ]
  },
  {
   "cell_type": "code",
   "execution_count": 61,
   "metadata": {
    "editable": true
   },
   "outputs": [
    {
     "data": {
      "text/plain": [
       "Index(['dt', 'AverageTemperature', 'AverageTemperatureUncertainty', 'City',\n",
       "       'Country', 'Latitude', 'Longitude'],\n",
       "      dtype='object')"
      ]
     },
     "execution_count": 61,
     "metadata": {},
     "output_type": "execute_result"
    }
   ],
   "source": [
    "df_World_Temperature.columns"
   ]
  },
  {
   "cell_type": "code",
   "execution_count": 62,
   "metadata": {
    "editable": true
   },
   "outputs": [
    {
     "data": {
      "text/html": [
       "<div>\n",
       "<style scoped>\n",
       "    .dataframe tbody tr th:only-of-type {\n",
       "        vertical-align: middle;\n",
       "    }\n",
       "\n",
       "    .dataframe tbody tr th {\n",
       "        vertical-align: top;\n",
       "    }\n",
       "\n",
       "    .dataframe thead th {\n",
       "        text-align: right;\n",
       "    }\n",
       "</style>\n",
       "<table border=\"1\" class=\"dataframe\">\n",
       "  <thead>\n",
       "    <tr style=\"text-align: right;\">\n",
       "      <th></th>\n",
       "      <th>datetime</th>\n",
       "      <th>Avg_temp</th>\n",
       "      <th>Avg_temp_uncert</th>\n",
       "      <th>city</th>\n",
       "      <th>country</th>\n",
       "      <th>year</th>\n",
       "      <th>month</th>\n",
       "    </tr>\n",
       "  </thead>\n",
       "  <tbody>\n",
       "    <tr>\n",
       "      <th>0</th>\n",
       "      <td>1743-11-01</td>\n",
       "      <td>6.068</td>\n",
       "      <td>1.737</td>\n",
       "      <td>Århus</td>\n",
       "      <td>Denmark</td>\n",
       "      <td>1743</td>\n",
       "      <td>11</td>\n",
       "    </tr>\n",
       "    <tr>\n",
       "      <th>1</th>\n",
       "      <td>1744-04-01</td>\n",
       "      <td>5.788</td>\n",
       "      <td>3.624</td>\n",
       "      <td>Århus</td>\n",
       "      <td>Denmark</td>\n",
       "      <td>1744</td>\n",
       "      <td>04</td>\n",
       "    </tr>\n",
       "  </tbody>\n",
       "</table>\n",
       "</div>"
      ],
      "text/plain": [
       "     datetime  Avg_temp  Avg_temp_uncert   city  country  year month\n",
       "0  1743-11-01     6.068            1.737  Århus  Denmark  1743    11\n",
       "1  1744-04-01     5.788            3.624  Århus  Denmark  1744    04"
      ]
     },
     "execution_count": 62,
     "metadata": {},
     "output_type": "execute_result"
    }
   ],
   "source": [
    "columns_temp=['dt','AverageTemperature','AverageTemperatureUncertainty', 'City', 'Country']\n",
    "df_World_Temperature=df_World_Temperature[columns_temp]\n",
    "df_World_Temperature['year']=[x.split('-')[0] for x in df_World_Temperature.dt]\n",
    "# I will extract the month as the immigration I94 dataset has also the month\n",
    "df_World_Temperature['month']=[x.split('-')[1] for x in df_World_Temperature.dt]\n",
    "df_World_Temperature.rename(columns={'dt':'datetime','AverageTemperature':'Avg_temp','AverageTemperatureUncertainty':'Avg_temp_uncert',\n",
    "                                 'City':'city', 'Country':'country'}, inplace=True)\n",
    "df_World_Temperature.head(2)"
   ]
  },
  {
   "cell_type": "code",
   "execution_count": 63,
   "metadata": {
    "editable": true
   },
   "outputs": [
    {
     "data": {
      "text/plain": [
       "Index(['datetime', 'Avg_temp', 'Avg_temp_uncert', 'city', 'country', 'year',\n",
       "       'month'],\n",
       "      dtype='object')"
      ]
     },
     "execution_count": 63,
     "metadata": {},
     "output_type": "execute_result"
    }
   ],
   "source": [
    "df_World_Temperature.columns"
   ]
  },
  {
   "cell_type": "markdown",
   "metadata": {
    "editable": true
   },
   "source": [
    "Selecting only the US Temperature data and the year 2016"
   ]
  },
  {
   "cell_type": "code",
   "execution_count": 64,
   "metadata": {
    "editable": true
   },
   "outputs": [
    {
     "data": {
      "text/html": [
       "<div>\n",
       "<style scoped>\n",
       "    .dataframe tbody tr th:only-of-type {\n",
       "        vertical-align: middle;\n",
       "    }\n",
       "\n",
       "    .dataframe tbody tr th {\n",
       "        vertical-align: top;\n",
       "    }\n",
       "\n",
       "    .dataframe thead th {\n",
       "        text-align: right;\n",
       "    }\n",
       "</style>\n",
       "<table border=\"1\" class=\"dataframe\">\n",
       "  <thead>\n",
       "    <tr style=\"text-align: right;\">\n",
       "      <th></th>\n",
       "      <th>datetime</th>\n",
       "      <th>Avg_temp</th>\n",
       "      <th>Avg_temp_uncert</th>\n",
       "      <th>city</th>\n",
       "      <th>country</th>\n",
       "      <th>year</th>\n",
       "      <th>month</th>\n",
       "    </tr>\n",
       "  </thead>\n",
       "  <tbody>\n",
       "    <tr>\n",
       "      <th>0</th>\n",
       "      <td>1820-01-01</td>\n",
       "      <td>2.101</td>\n",
       "      <td>3.217</td>\n",
       "      <td>Abilene</td>\n",
       "      <td>United States</td>\n",
       "      <td>1820</td>\n",
       "      <td>01</td>\n",
       "    </tr>\n",
       "    <tr>\n",
       "      <th>1</th>\n",
       "      <td>1820-02-01</td>\n",
       "      <td>6.926</td>\n",
       "      <td>2.853</td>\n",
       "      <td>Abilene</td>\n",
       "      <td>United States</td>\n",
       "      <td>1820</td>\n",
       "      <td>02</td>\n",
       "    </tr>\n",
       "    <tr>\n",
       "      <th>2</th>\n",
       "      <td>1820-03-01</td>\n",
       "      <td>10.767</td>\n",
       "      <td>2.395</td>\n",
       "      <td>Abilene</td>\n",
       "      <td>United States</td>\n",
       "      <td>1820</td>\n",
       "      <td>03</td>\n",
       "    </tr>\n",
       "  </tbody>\n",
       "</table>\n",
       "</div>"
      ],
      "text/plain": [
       "     datetime  Avg_temp  Avg_temp_uncert     city        country  year month\n",
       "0  1820-01-01     2.101            3.217  Abilene  United States  1820    01\n",
       "1  1820-02-01     6.926            2.853  Abilene  United States  1820    02\n",
       "2  1820-03-01    10.767            2.395  Abilene  United States  1820    03"
      ]
     },
     "execution_count": 64,
     "metadata": {},
     "output_type": "execute_result"
    }
   ],
   "source": [
    "df_World_Temperature=df_World_Temperature[(df_World_Temperature.country=='United States')]\n",
    "#df_World_Temperature=df_World_Temperature[df_World_Temperature.year=='2016']\n",
    "df_World_Temperature=df_World_Temperature.reset_index(drop=True)\n",
    "df_World_Temperature.head(3)"
   ]
  },
  {
   "cell_type": "markdown",
   "metadata": {
    "editable": true
   },
   "source": [
    "### Step 3: Define the Data Model\n",
    "#### 3.1 Conceptual Data Model\n",
    "\n",
    "Data modeling is the procedure of creating a data model for the data to be stored in database or datawarehouse. It is named Conceptual model because it is based on conceptual data objects representation along with associations between various data objects and rules.\n",
    "\n",
    "I have chosen to work with star schema due to its simplicity regarding the data mart schema style. In addition, this approach is the most adopted to develop data warehouses and dimensional data marts. The star schema consists of one or more fact tables referencing a number of dimension tables. \n",
    "\n",
    "A fact table consists of the measurements, metrics or facts of a business process. It is located at the center of a star schema surrounded by dimension tables and is more used and effective for handling simpler queries.\n",
    "\n",
    "A dimension table contains dimensions of a fact. It is companion table to the fact table and it contains descriptive attributes to be used as query constraining. It is de-normalized table that is connected to the fact table and located at the edges of the star schema. Commonly used dimensions are people, products, place and time.\n",
    "\n",
    "In my star schema, I have chosen one fact table with seven dimension tables. \n",
    "\n",
    "Here is my star schema :"
   ]
  },
  {
   "cell_type": "code",
   "execution_count": 65,
   "metadata": {
    "editable": true
   },
   "outputs": [
    {
     "data": {
      "text/html": [
       "<img src=\"star_schema.png\" width=\"800\" height=\"800\"/>"
      ],
      "text/plain": [
       "<IPython.core.display.Image object>"
      ]
     },
     "execution_count": 65,
     "metadata": {},
     "output_type": "execute_result"
    }
   ],
   "source": [
    "# get the image\n",
    "Image(url=\"star_schema.png\", width=800, height=800)"
   ]
  },
  {
   "cell_type": "markdown",
   "metadata": {
    "editable": true
   },
   "source": [
    "#### 3.2 Mapping Out Data Pipelines\n",
    "List the steps necessary to pipeline the data into the star data model\n",
    "    \n",
    "- Our input data which corresponds to the four datasets are stored in S3 bucket under the next paths:\n",
    "    - my_bucket/immigration_data_sample.csv\n",
    "    - my_bucket/us-cities-demographics.csv\n",
    "    - my_bucket/airport-codes_csv.csv\n",
    "    - my_bucket/GlobalLandTemperaturesByCity.csv' \n",
    "- Read all the csv data from S3 and convert them into one fact table named 'Trip' and seven dimension tables named: 'Population Details', 'Demographic summary', 'Time', 'Airline Details', 'Airport', 'Immigrant Details', 'Temperature'  \n",
    "    - Immigration_data is converted into the next tables: 'Immigrant Details'( dim table), 'Trip' (fact), 'Airline Details' (dim), 'Time' (dim)\n",
    "    - Temperature_data is converted 'Temperature' dimension table\n",
    "    - Aiport_data is converted into 'Airport' dimension table\n",
    "    - Dempographic_data is converted into 'Demographic summary' and 'Population Details' dimension tables\n",
    "- Load the created tables back to S3 bucket where our datalake is located under the next path:\n",
    "    - my_bucket/output/"
   ]
  },
  {
   "cell_type": "markdown",
   "metadata": {
    "editable": true
   },
   "source": [
    "### Step 4: Run Pipelines to Model the Data \n",
    "#### 4.1 Create the data model\n",
    "Build the data pipelines to create the data model."
   ]
  },
  {
   "cell_type": "code",
   "execution_count": 66,
   "metadata": {
    "editable": true
   },
   "outputs": [],
   "source": [
    "# Write code here\n",
    "config = configparser.ConfigParser()\n",
    "config.read('dl.cfg')\n",
    "\n",
    "os.environ['AWS_ACCESS_KEY_ID']=config.get(\"aws\",'AWS_ACCESS_KEY_ID')\n",
    "os.environ['AWS_SECRET_ACCESS_KEY']=config.get(\"aws\",'AWS_SECRET_ACCESS_KEY')\n",
    "\n",
    "output_data = config.get(\"aws\",'s3_output_data')\n",
    "\n",
    "def create_spark_session():\n",
    "    spark = SparkSession \\\n",
    "        .builder \\\n",
    "        .config(\"spark.jars.packages\", \"org.apache.hadoop:hadoop-aws:2.7.0\") \\\n",
    "        .getOrCreate()\n",
    "    return spark\n"
   ]
  },
  {
   "cell_type": "code",
   "execution_count": 67,
   "metadata": {
    "editable": true
   },
   "outputs": [],
   "source": [
    "spark = create_spark_session()"
   ]
  },
  {
   "cell_type": "markdown",
   "metadata": {
    "editable": true
   },
   "source": [
    "Here we must build the next eight tables: immigrant_details, airline_details, trip, airport, time, temperature, population_details, demographic_summary.\n",
    "#### immigrant_details table:"
   ]
  },
  {
   "cell_type": "code",
   "execution_count": 68,
   "metadata": {
    "editable": true
   },
   "outputs": [],
   "source": [
    "# define the immigrant_details schema\n",
    "immigrant_details_schema = StructType([\n",
    "        StructField(\"city_code\", IntegerType()),\n",
    "        StructField(\"country_code\", IntegerType()),\n",
    "        StructField(\"age\", IntegerType()),\n",
    "        StructField(\"gender\", StringType()),\n",
    "        StructField(\"occupation\", StringType()),\n",
    "        StructField(\"birth_year\", IntegerType()),\n",
    "        StructField(\"date_to_stay\", StringType()),\n",
    "        StructField(\"INSnum\", StringType()),\n",
    "        StructField(\"admission_number\", LongType()),\n",
    "        StructField(\"admission_class\", StringType()),\n",
    "    ])"
   ]
  },
  {
   "cell_type": "code",
   "execution_count": 69,
   "metadata": {
    "editable": true
   },
   "outputs": [
    {
     "data": {
      "text/html": [
       "<div>\n",
       "<style scoped>\n",
       "    .dataframe tbody tr th:only-of-type {\n",
       "        vertical-align: middle;\n",
       "    }\n",
       "\n",
       "    .dataframe tbody tr th {\n",
       "        vertical-align: top;\n",
       "    }\n",
       "\n",
       "    .dataframe thead th {\n",
       "        text-align: right;\n",
       "    }\n",
       "</style>\n",
       "<table border=\"1\" class=\"dataframe\">\n",
       "  <thead>\n",
       "    <tr style=\"text-align: right;\">\n",
       "      <th></th>\n",
       "      <th>city_code</th>\n",
       "      <th>country_code</th>\n",
       "      <th>age</th>\n",
       "      <th>gender</th>\n",
       "      <th>occupation</th>\n",
       "      <th>birth_year</th>\n",
       "      <th>date_to_stay</th>\n",
       "      <th>INSnum</th>\n",
       "      <th>admission_number</th>\n",
       "      <th>admission_class</th>\n",
       "    </tr>\n",
       "  </thead>\n",
       "  <tbody>\n",
       "    <tr>\n",
       "      <th>1</th>\n",
       "      <td>582</td>\n",
       "      <td>582</td>\n",
       "      <td>26</td>\n",
       "      <td>M</td>\n",
       "      <td>NaN</td>\n",
       "      <td>1990</td>\n",
       "      <td>10222016</td>\n",
       "      <td>NaN</td>\n",
       "      <td>94361995930</td>\n",
       "      <td>B2</td>\n",
       "    </tr>\n",
       "  </tbody>\n",
       "</table>\n",
       "</div>"
      ],
      "text/plain": [
       "   city_code  country_code  age gender occupation  birth_year date_to_stay  \\\n",
       "1        582           582   26      M        NaN        1990     10222016   \n",
       "\n",
       "   INSnum  admission_number admission_class  \n",
       "1     NaN       94361995930              B2  "
      ]
     },
     "execution_count": 69,
     "metadata": {},
     "output_type": "execute_result"
    }
   ],
   "source": [
    "df_immigrant_details=df_i94_migration[['city_code','country_code','age','gender','occupation','birth_year','date_to_stay','INSnum','admission_number','admission_class']]\n",
    "df_immigrant_details.head(1)"
   ]
  },
  {
   "cell_type": "code",
   "execution_count": 70,
   "metadata": {
    "editable": true
   },
   "outputs": [],
   "source": [
    "immigrant_details_table = spark.createDataFrame(df_immigrant_details,schema=immigrant_details_schema)"
   ]
  },
  {
   "cell_type": "code",
   "execution_count": 71,
   "metadata": {
    "editable": true
   },
   "outputs": [],
   "source": [
    "immigrant_details_table=immigrant_details_table.withColumn(\"immigrant_id\", monotonically_increasing_id())"
   ]
  },
  {
   "cell_type": "code",
   "execution_count": 72,
   "metadata": {
    "editable": true
   },
   "outputs": [
    {
     "name": "stdout",
     "output_type": "stream",
     "text": [
      "+---------+------------+---+------+----------+----------+------------+------+----------------+---------------+------------+\n",
      "|city_code|country_code|age|gender|occupation|birth_year|date_to_stay|INSnum|admission_number|admission_class|immigrant_id|\n",
      "+---------+------------+---+------+----------+----------+------------+------+----------------+---------------+------------+\n",
      "|      582|         582| 26|     M|       NaN|      1990|    10222016|   NaN|     94361995930|             B2|           0|\n",
      "|      297|         297| 25|     M|       NaN|      1991|    10272016|   NaN|     94789696030|             B2|           1|\n",
      "|      260|         260| 62|     F|       NaN|      1954|    10252016|   NaN|     94612771030|             B2|           2|\n",
      "|      512|         512| 21|     F|       NaN|      1995|    10052016|   NaN|     92858001630|             B2|           3|\n",
      "|      746|         158| 46|     M|       NaN|      1970|    10232016|   NaN|     94435600530|             B2|           4|\n",
      "+---------+------------+---+------+----------+----------+------------+------+----------------+---------------+------------+\n",
      "only showing top 5 rows\n",
      "\n"
     ]
    }
   ],
   "source": [
    "immigrant_details_table.show(5)"
   ]
  },
  {
   "cell_type": "code",
   "execution_count": 74,
   "metadata": {
    "editable": true
   },
   "outputs": [],
   "source": [
    "# write immigrant_details table to parquet files partitioned by country_code and birth_year\n",
    "immigrant_details_table.write.partitionBy(\"country_code\",\"birth_year\").parquet(output_data+\"/immigrant_details_table.parquet\")"
   ]
  },
  {
   "cell_type": "markdown",
   "metadata": {
    "editable": true
   },
   "source": [
    "#### airline table"
   ]
  },
  {
   "cell_type": "code",
   "execution_count": 75,
   "metadata": {
    "editable": true
   },
   "outputs": [],
   "source": [
    "# define the airline schema\n",
    "airline_schema = StructType([\n",
    "        StructField(\"airline\", StringType()),\n",
    "        StructField(\"age\", StringType()),  \n",
    "    ])"
   ]
  },
  {
   "cell_type": "code",
   "execution_count": 76,
   "metadata": {
    "editable": true
   },
   "outputs": [
    {
     "data": {
      "text/html": [
       "<div>\n",
       "<style scoped>\n",
       "    .dataframe tbody tr th:only-of-type {\n",
       "        vertical-align: middle;\n",
       "    }\n",
       "\n",
       "    .dataframe tbody tr th {\n",
       "        vertical-align: top;\n",
       "    }\n",
       "\n",
       "    .dataframe thead th {\n",
       "        text-align: right;\n",
       "    }\n",
       "</style>\n",
       "<table border=\"1\" class=\"dataframe\">\n",
       "  <thead>\n",
       "    <tr style=\"text-align: right;\">\n",
       "      <th></th>\n",
       "      <th>airline</th>\n",
       "      <th>flight_num</th>\n",
       "    </tr>\n",
       "  </thead>\n",
       "  <tbody>\n",
       "    <tr>\n",
       "      <th>1</th>\n",
       "      <td>*GA</td>\n",
       "      <td>XBLNG</td>\n",
       "    </tr>\n",
       "  </tbody>\n",
       "</table>\n",
       "</div>"
      ],
      "text/plain": [
       "  airline flight_num\n",
       "1     *GA      XBLNG"
      ]
     },
     "execution_count": 76,
     "metadata": {},
     "output_type": "execute_result"
    }
   ],
   "source": [
    "airline_df=df_i94_migration[['airline','flight_num']]\n",
    "airline_df.head(1)"
   ]
  },
  {
   "cell_type": "code",
   "execution_count": 77,
   "metadata": {
    "editable": true
   },
   "outputs": [],
   "source": [
    "airline_table = spark.createDataFrame(airline_df,schema=airline_schema)"
   ]
  },
  {
   "cell_type": "code",
   "execution_count": 78,
   "metadata": {
    "editable": true
   },
   "outputs": [],
   "source": [
    "airline_table=airline_table.withColumn(\"airline_id\", monotonically_increasing_id())"
   ]
  },
  {
   "cell_type": "code",
   "execution_count": 79,
   "metadata": {
    "editable": true
   },
   "outputs": [
    {
     "name": "stdout",
     "output_type": "stream",
     "text": [
      "+-------+-----+----------+\n",
      "|airline|  age|airline_id|\n",
      "+-------+-----+----------+\n",
      "|    *GA|XBLNG|         0|\n",
      "|     QR|00739|         1|\n",
      "|     EK|00215|         2|\n",
      "|     DL|00554|         3|\n",
      "|     DL|00143|         4|\n",
      "+-------+-----+----------+\n",
      "only showing top 5 rows\n",
      "\n"
     ]
    }
   ],
   "source": [
    "airline_table.show(5)"
   ]
  },
  {
   "cell_type": "code",
   "execution_count": 81,
   "metadata": {
    "editable": true
   },
   "outputs": [],
   "source": [
    "# write airline table to parquet files \n",
    "airline_table.write.parquet(output_data+\"/airline_table.parquet\")"
   ]
  },
  {
   "cell_type": "markdown",
   "metadata": {
    "editable": true
   },
   "source": [
    "##### Trip table:"
   ]
  },
  {
   "cell_type": "code",
   "execution_count": 82,
   "metadata": {
    "editable": true
   },
   "outputs": [],
   "source": [
    "# define the trip schema\n",
    "trip_schema = StructType([\n",
    "        StructField(\"arrival_date\", IntegerType()),\n",
    "        StructField(\"departure_date\", DoubleType()),\n",
    "        StructField(\"arrival_port\", StringType()),\n",
    "        StructField(\"departure_port\", StringType()),\n",
    "        StructField(\"arrival_flag\", StringType()),\n",
    "        StructField(\"departure_flag\", StringType()),\n",
    "        StructField(\"immig_mode\", IntegerType()),\n",
    "        StructField(\"visa_type\", IntegerType()),\n",
    "        StructField(\"visapost\", StringType()),\n",
    "    ])"
   ]
  },
  {
   "cell_type": "code",
   "execution_count": 83,
   "metadata": {
    "editable": true
   },
   "outputs": [
    {
     "data": {
      "text/html": [
       "<div>\n",
       "<style scoped>\n",
       "    .dataframe tbody tr th:only-of-type {\n",
       "        vertical-align: middle;\n",
       "    }\n",
       "\n",
       "    .dataframe tbody tr th {\n",
       "        vertical-align: top;\n",
       "    }\n",
       "\n",
       "    .dataframe thead th {\n",
       "        text-align: right;\n",
       "    }\n",
       "</style>\n",
       "<table border=\"1\" class=\"dataframe\">\n",
       "  <thead>\n",
       "    <tr style=\"text-align: right;\">\n",
       "      <th></th>\n",
       "      <th>arrival_date</th>\n",
       "      <th>departure_date</th>\n",
       "      <th>arrival_port</th>\n",
       "      <th>departure_port</th>\n",
       "      <th>arrival_flag</th>\n",
       "      <th>departure_flag</th>\n",
       "      <th>immig_mode</th>\n",
       "      <th>visa_type</th>\n",
       "      <th>visapost</th>\n",
       "    </tr>\n",
       "  </thead>\n",
       "  <tbody>\n",
       "    <tr>\n",
       "      <th>1</th>\n",
       "      <td>20567</td>\n",
       "      <td>20568.0</td>\n",
       "      <td>TX</td>\n",
       "      <td>MCA</td>\n",
       "      <td>G</td>\n",
       "      <td>R</td>\n",
       "      <td>1</td>\n",
       "      <td>2</td>\n",
       "      <td>MTR</td>\n",
       "    </tr>\n",
       "  </tbody>\n",
       "</table>\n",
       "</div>"
      ],
      "text/plain": [
       "   arrival_date  departure_date arrival_port departure_port arrival_flag  \\\n",
       "1         20567         20568.0           TX            MCA            G   \n",
       "\n",
       "  departure_flag  immig_mode  visa_type visapost  \n",
       "1              R           1          2      MTR  "
      ]
     },
     "execution_count": 83,
     "metadata": {},
     "output_type": "execute_result"
    }
   ],
   "source": [
    "df_trip=df_i94_migration[['arrival_date','departure_date','arrival_port','departure_port','arrival_flag','departure_flag','immig_mode','visa_type','visapost']]\n",
    "df_trip.head(1)"
   ]
  },
  {
   "cell_type": "code",
   "execution_count": 84,
   "metadata": {
    "editable": true
   },
   "outputs": [],
   "source": [
    "trip_table = spark.createDataFrame(df_trip,schema=trip_schema)"
   ]
  },
  {
   "cell_type": "code",
   "execution_count": 85,
   "metadata": {
    "editable": true
   },
   "outputs": [],
   "source": [
    "trip_table=trip_table.withColumn(\"trip_id\", monotonically_increasing_id())"
   ]
  },
  {
   "cell_type": "code",
   "execution_count": 86,
   "metadata": {
    "editable": true
   },
   "outputs": [
    {
     "name": "stdout",
     "output_type": "stream",
     "text": [
      "+------------+--------------+------------+--------------+------------+--------------+----------+---------+--------+-------+\n",
      "|arrival_date|departure_date|arrival_port|departure_port|arrival_flag|departure_flag|immig_mode|visa_type|visapost|trip_id|\n",
      "+------------+--------------+------------+--------------+------------+--------------+----------+---------+--------+-------+\n",
      "|       20567|       20568.0|          TX|           MCA|           G|             R|         1|        2|     MTR|      0|\n",
      "|       20572|       20581.0|          CA|           LOS|           G|             O|         1|        2|     DOH|      1|\n",
      "|       20570|       20581.0|          CA|           LOS|           G|             O|         1|        2|     MNL|      2|\n",
      "|       20550|       20552.0|          GA|           NAS|           G|             O|         1|        2|     NSS|      3|\n",
      "|       20568|       20571.0|          NV|           SEA|           G|             O|         1|        2|     MOS|      4|\n",
      "+------------+--------------+------------+--------------+------------+--------------+----------+---------+--------+-------+\n",
      "only showing top 5 rows\n",
      "\n"
     ]
    }
   ],
   "source": [
    "trip_table.show(5)"
   ]
  },
  {
   "cell_type": "code",
   "execution_count": 87,
   "metadata": {
    "editable": true
   },
   "outputs": [],
   "source": [
    "#write trip table to parquet\n",
    "trip_table.write.parquet(output_data+\"/trip_table.parquet\")"
   ]
  },
  {
   "cell_type": "markdown",
   "metadata": {
    "editable": true
   },
   "source": [
    "#### airport table:"
   ]
  },
  {
   "cell_type": "code",
   "execution_count": 88,
   "metadata": {
    "editable": true
   },
   "outputs": [],
   "source": [
    "# define the airport schema\n",
    "airport_schema = StructType([\n",
    "        StructField(\"type\", StringType()),\n",
    "        StructField(\"name\", StringType()),\n",
    "        StructField(\"country\", StringType()),\n",
    "        StructField(\"region\", StringType()),\n",
    "        StructField(\"local_code\", StringType()),\n",
    "        StructField(\"IATA_code\", StringType()),\n",
    "    ])"
   ]
  },
  {
   "cell_type": "code",
   "execution_count": 89,
   "metadata": {
    "editable": true
   },
   "outputs": [
    {
     "data": {
      "text/html": [
       "<div>\n",
       "<style scoped>\n",
       "    .dataframe tbody tr th:only-of-type {\n",
       "        vertical-align: middle;\n",
       "    }\n",
       "\n",
       "    .dataframe tbody tr th {\n",
       "        vertical-align: top;\n",
       "    }\n",
       "\n",
       "    .dataframe thead th {\n",
       "        text-align: right;\n",
       "    }\n",
       "</style>\n",
       "<table border=\"1\" class=\"dataframe\">\n",
       "  <thead>\n",
       "    <tr style=\"text-align: right;\">\n",
       "      <th></th>\n",
       "      <th>type</th>\n",
       "      <th>name</th>\n",
       "      <th>country</th>\n",
       "      <th>region</th>\n",
       "      <th>local_code</th>\n",
       "      <th>IATA_code</th>\n",
       "    </tr>\n",
       "  </thead>\n",
       "  <tbody>\n",
       "    <tr>\n",
       "      <th>0</th>\n",
       "      <td>small_airport</td>\n",
       "      <td>Utirik Airport</td>\n",
       "      <td>MH</td>\n",
       "      <td>MH-UTI</td>\n",
       "      <td>03N</td>\n",
       "      <td>UTK</td>\n",
       "    </tr>\n",
       "  </tbody>\n",
       "</table>\n",
       "</div>"
      ],
      "text/plain": [
       "            type            name country  region local_code IATA_code\n",
       "0  small_airport  Utirik Airport      MH  MH-UTI        03N       UTK"
      ]
     },
     "execution_count": 89,
     "metadata": {},
     "output_type": "execute_result"
    }
   ],
   "source": [
    "airport_df=df_airport_code[['type','name','country','region','local_code','IATA_code']]\n",
    "airport_df.head(1)"
   ]
  },
  {
   "cell_type": "code",
   "execution_count": 90,
   "metadata": {
    "editable": true
   },
   "outputs": [],
   "source": [
    "airport_table = spark.createDataFrame(airport_df,schema=airport_schema)"
   ]
  },
  {
   "cell_type": "code",
   "execution_count": 91,
   "metadata": {
    "editable": true
   },
   "outputs": [],
   "source": [
    "airport_table=airport_table.withColumn(\"airport_id\", monotonically_increasing_id())"
   ]
  },
  {
   "cell_type": "code",
   "execution_count": 92,
   "metadata": {
    "editable": true
   },
   "outputs": [
    {
     "name": "stdout",
     "output_type": "stream",
     "text": [
      "+-------------+-----------------+-------+------+----------+---------+----------+\n",
      "|         type|             name|country|region|local_code|IATA_code|airport_id|\n",
      "+-------------+-----------------+-------+------+----------+---------+----------+\n",
      "|small_airport|   Utirik Airport|     MH|MH-UTI|       03N|      UTK|         0|\n",
      "|small_airport|Andakombe Airport|     PG|PG-EHG|       ADK|      ADC|         1|\n",
      "|small_airport|    Aseki Airport|     PG|PG-MPL|       ASE|      AEK|         2|\n",
      "|small_airport|    Aiome Airport|     PG|PG-MPM|       AIO|      AIE|         3|\n",
      "|small_airport|  Aiambak Airport|     PG|PG-WPD|       AMB|      AIH|         4|\n",
      "+-------------+-----------------+-------+------+----------+---------+----------+\n",
      "only showing top 5 rows\n",
      "\n"
     ]
    }
   ],
   "source": [
    "airport_table.show(5)"
   ]
  },
  {
   "cell_type": "code",
   "execution_count": 93,
   "metadata": {
    "editable": true
   },
   "outputs": [],
   "source": [
    "#write airport table to parquet\n",
    "airport_table.write.parquet(output_data+\"/airport_table.parquet\")"
   ]
  },
  {
   "cell_type": "markdown",
   "metadata": {
    "editable": true
   },
   "source": [
    "#### temperature table"
   ]
  },
  {
   "cell_type": "code",
   "execution_count": 94,
   "metadata": {
    "editable": true
   },
   "outputs": [],
   "source": [
    "# define the airport schema\n",
    "temperature_schema = StructType([\n",
    "        StructField(\"datetime\", StringType()),\n",
    "        StructField(\"Avg_temp\", StringType()),\n",
    "        StructField(\"Avg_temp_uncert\", StringType()),\n",
    "        StructField(\"city\", StringType()),\n",
    "        StructField(\"country\", StringType()),\n",
    "        StructField(\"year\", StringType()),\n",
    "        StructField(\"month\", StringType()),\n",
    "    ])"
   ]
  },
  {
   "cell_type": "code",
   "execution_count": 95,
   "metadata": {
    "editable": true
   },
   "outputs": [
    {
     "data": {
      "text/html": [
       "<div>\n",
       "<style scoped>\n",
       "    .dataframe tbody tr th:only-of-type {\n",
       "        vertical-align: middle;\n",
       "    }\n",
       "\n",
       "    .dataframe tbody tr th {\n",
       "        vertical-align: top;\n",
       "    }\n",
       "\n",
       "    .dataframe thead th {\n",
       "        text-align: right;\n",
       "    }\n",
       "</style>\n",
       "<table border=\"1\" class=\"dataframe\">\n",
       "  <thead>\n",
       "    <tr style=\"text-align: right;\">\n",
       "      <th></th>\n",
       "      <th>datetime</th>\n",
       "      <th>Avg_temp</th>\n",
       "      <th>Avg_temp_uncert</th>\n",
       "      <th>city</th>\n",
       "      <th>country</th>\n",
       "      <th>year</th>\n",
       "      <th>month</th>\n",
       "    </tr>\n",
       "  </thead>\n",
       "  <tbody>\n",
       "    <tr>\n",
       "      <th>0</th>\n",
       "      <td>1820-01-01</td>\n",
       "      <td>2.101</td>\n",
       "      <td>3.217</td>\n",
       "      <td>Abilene</td>\n",
       "      <td>United States</td>\n",
       "      <td>1820</td>\n",
       "      <td>01</td>\n",
       "    </tr>\n",
       "  </tbody>\n",
       "</table>\n",
       "</div>"
      ],
      "text/plain": [
       "     datetime  Avg_temp  Avg_temp_uncert     city        country  year month\n",
       "0  1820-01-01     2.101            3.217  Abilene  United States  1820    01"
      ]
     },
     "execution_count": 95,
     "metadata": {},
     "output_type": "execute_result"
    }
   ],
   "source": [
    "temperature_df=df_World_Temperature[['datetime','Avg_temp','Avg_temp_uncert','city','country','year','month']]\n",
    "temperature_df.head(1)"
   ]
  },
  {
   "cell_type": "code",
   "execution_count": 96,
   "metadata": {
    "editable": true
   },
   "outputs": [],
   "source": [
    "temperature_table = spark.createDataFrame(temperature_df,schema=temperature_schema)"
   ]
  },
  {
   "cell_type": "code",
   "execution_count": 97,
   "metadata": {
    "editable": true
   },
   "outputs": [],
   "source": [
    "temperature_table=temperature_table.withColumn(\"temp_id\", monotonically_increasing_id())"
   ]
  },
  {
   "cell_type": "code",
   "execution_count": 98,
   "metadata": {
    "editable": true
   },
   "outputs": [
    {
     "name": "stdout",
     "output_type": "stream",
     "text": [
      "+----------+------------------+---------------+-------+-------------+----+-----+-------+\n",
      "|  datetime|          Avg_temp|Avg_temp_uncert|   city|      country|year|month|temp_id|\n",
      "+----------+------------------+---------------+-------+-------------+----+-----+-------+\n",
      "|1820-01-01|2.1010000000000004|          3.217|Abilene|United States|1820|   01|      0|\n",
      "|1820-02-01|             6.926|          2.853|Abilene|United States|1820|   02|      1|\n",
      "|1820-03-01|10.767000000000001|          2.395|Abilene|United States|1820|   03|      2|\n",
      "|1820-04-01|17.988999999999994|          2.202|Abilene|United States|1820|   04|      3|\n",
      "|1820-05-01|            21.809|          2.036|Abilene|United States|1820|   05|      4|\n",
      "+----------+------------------+---------------+-------+-------------+----+-----+-------+\n",
      "only showing top 5 rows\n",
      "\n"
     ]
    }
   ],
   "source": [
    "temperature_table.show(5)"
   ]
  },
  {
   "cell_type": "code",
   "execution_count": 100,
   "metadata": {
    "editable": true
   },
   "outputs": [],
   "source": [
    "# write temperature table to parquet files partitioned by year and month\n",
    "temperature_table.write.partitionBy(\"year\",\"month\").parquet(output_data+\"/temperature_table.parquet\")"
   ]
  },
  {
   "cell_type": "markdown",
   "metadata": {
    "editable": true
   },
   "source": [
    "#### time table"
   ]
  },
  {
   "cell_type": "code",
   "execution_count": 101,
   "metadata": {
    "editable": true
   },
   "outputs": [],
   "source": [
    "# define the time schema\n",
    "time_schema = StructType([\n",
    "        StructField(\"datetime\", StringType()),\n",
    "        StructField(\"year\", StringType()),\n",
    "        StructField(\"month\", StringType()),\n",
    "    ])"
   ]
  },
  {
   "cell_type": "code",
   "execution_count": 102,
   "metadata": {
    "editable": true
   },
   "outputs": [
    {
     "data": {
      "text/html": [
       "<div>\n",
       "<style scoped>\n",
       "    .dataframe tbody tr th:only-of-type {\n",
       "        vertical-align: middle;\n",
       "    }\n",
       "\n",
       "    .dataframe tbody tr th {\n",
       "        vertical-align: top;\n",
       "    }\n",
       "\n",
       "    .dataframe thead th {\n",
       "        text-align: right;\n",
       "    }\n",
       "</style>\n",
       "<table border=\"1\" class=\"dataframe\">\n",
       "  <thead>\n",
       "    <tr style=\"text-align: right;\">\n",
       "      <th></th>\n",
       "      <th>datetime</th>\n",
       "      <th>year</th>\n",
       "      <th>month</th>\n",
       "    </tr>\n",
       "  </thead>\n",
       "  <tbody>\n",
       "    <tr>\n",
       "      <th>0</th>\n",
       "      <td>1820-01-01</td>\n",
       "      <td>1820</td>\n",
       "      <td>01</td>\n",
       "    </tr>\n",
       "  </tbody>\n",
       "</table>\n",
       "</div>"
      ],
      "text/plain": [
       "     datetime  year month\n",
       "0  1820-01-01  1820    01"
      ]
     },
     "execution_count": 102,
     "metadata": {},
     "output_type": "execute_result"
    }
   ],
   "source": [
    "time_df=df_World_Temperature[['datetime','year','month']]\n",
    "time_df.head(1)"
   ]
  },
  {
   "cell_type": "code",
   "execution_count": 103,
   "metadata": {
    "editable": true
   },
   "outputs": [],
   "source": [
    "time_table = spark.createDataFrame(time_df,schema=time_schema)"
   ]
  },
  {
   "cell_type": "code",
   "execution_count": 104,
   "metadata": {
    "editable": true
   },
   "outputs": [],
   "source": [
    "time_table=time_table.withColumn(\"time_id\", monotonically_increasing_id())"
   ]
  },
  {
   "cell_type": "code",
   "execution_count": 105,
   "metadata": {
    "editable": true
   },
   "outputs": [
    {
     "name": "stdout",
     "output_type": "stream",
     "text": [
      "+----------+----+-----+-------+\n",
      "|  datetime|year|month|time_id|\n",
      "+----------+----+-----+-------+\n",
      "|1820-01-01|1820|   01|      0|\n",
      "|1820-02-01|1820|   02|      1|\n",
      "|1820-03-01|1820|   03|      2|\n",
      "|1820-04-01|1820|   04|      3|\n",
      "|1820-05-01|1820|   05|      4|\n",
      "+----------+----+-----+-------+\n",
      "only showing top 5 rows\n",
      "\n"
     ]
    }
   ],
   "source": [
    "time_table.show(5)"
   ]
  },
  {
   "cell_type": "code",
   "execution_count": 107,
   "metadata": {
    "editable": true
   },
   "outputs": [],
   "source": [
    "# write the time table into s3 partitioned by year and month\n",
    "time_table.write.partitionBy(\"year\",\"month\").parquet(output_data+\"/time_table.parquet\")"
   ]
  },
  {
   "cell_type": "markdown",
   "metadata": {
    "editable": true
   },
   "source": [
    "#### population_details table: "
   ]
  },
  {
   "cell_type": "code",
   "execution_count": 108,
   "metadata": {
    "editable": true
   },
   "outputs": [],
   "source": [
    "# define the population details schema\n",
    "population_details_schema = StructType([\n",
    "        StructField(\"female_portion\", DoubleType()),\n",
    "        StructField(\"male_portion\", DoubleType()),\n",
    "        StructField(\"total_portion\", IntegerType()),\n",
    "        StructField(\"city\", StringType()),\n",
    "        StructField(\"state\", StringType()),\n",
    "        StructField(\"race\", StringType()),\n",
    "    ])"
   ]
  },
  {
   "cell_type": "code",
   "execution_count": 109,
   "metadata": {
    "editable": true
   },
   "outputs": [
    {
     "data": {
      "text/html": [
       "<div>\n",
       "<style scoped>\n",
       "    .dataframe tbody tr th:only-of-type {\n",
       "        vertical-align: middle;\n",
       "    }\n",
       "\n",
       "    .dataframe tbody tr th {\n",
       "        vertical-align: top;\n",
       "    }\n",
       "\n",
       "    .dataframe thead th {\n",
       "        text-align: right;\n",
       "    }\n",
       "</style>\n",
       "<table border=\"1\" class=\"dataframe\">\n",
       "  <thead>\n",
       "    <tr style=\"text-align: right;\">\n",
       "      <th></th>\n",
       "      <th>female_portion</th>\n",
       "      <th>male_portion</th>\n",
       "      <th>total_portion</th>\n",
       "      <th>city</th>\n",
       "      <th>state</th>\n",
       "      <th>race</th>\n",
       "    </tr>\n",
       "  </thead>\n",
       "  <tbody>\n",
       "    <tr>\n",
       "      <th>0</th>\n",
       "      <td>41862.0</td>\n",
       "      <td>40601.0</td>\n",
       "      <td>82463</td>\n",
       "      <td>Silver Spring</td>\n",
       "      <td>Maryland</td>\n",
       "      <td>Hispanic or Latino</td>\n",
       "    </tr>\n",
       "  </tbody>\n",
       "</table>\n",
       "</div>"
      ],
      "text/plain": [
       "   female_portion  male_portion  total_portion           city     state  \\\n",
       "0         41862.0       40601.0          82463  Silver Spring  Maryland   \n",
       "\n",
       "                 race  \n",
       "0  Hispanic or Latino  "
      ]
     },
     "execution_count": 109,
     "metadata": {},
     "output_type": "execute_result"
    }
   ],
   "source": [
    "population_details_df=df_us_city_demo[['female_portion','male_portion','total_portion','city','state','race']]\n",
    "population_details_df.head(1)"
   ]
  },
  {
   "cell_type": "code",
   "execution_count": 110,
   "metadata": {
    "editable": true
   },
   "outputs": [],
   "source": [
    "population_details_table = spark.createDataFrame(population_details_df,schema=population_details_schema)"
   ]
  },
  {
   "cell_type": "code",
   "execution_count": 111,
   "metadata": {
    "editable": true
   },
   "outputs": [],
   "source": [
    "population_details_table=population_details_table.withColumn(\"population_id\", monotonically_increasing_id())"
   ]
  },
  {
   "cell_type": "code",
   "execution_count": 112,
   "metadata": {
    "editable": true
   },
   "outputs": [
    {
     "name": "stdout",
     "output_type": "stream",
     "text": [
      "+--------------+------------+-------------+----------------+-------------+--------------------+-------------+\n",
      "|female_portion|male_portion|total_portion|            city|        state|                race|population_id|\n",
      "+--------------+------------+-------------+----------------+-------------+--------------------+-------------+\n",
      "|       41862.0|     40601.0|        82463|   Silver Spring|     Maryland|  Hispanic or Latino|            0|\n",
      "|       49500.0|     44129.0|        93629|          Quincy|Massachusetts|               White|            1|\n",
      "|       46799.0|     38040.0|        84839|          Hoover|      Alabama|               Asian|            2|\n",
      "|       87105.0|     88127.0|       175232|Rancho Cucamonga|   California|Black or African-...|            3|\n",
      "|      143873.0|    138040.0|       281913|          Newark|   New Jersey|               White|            4|\n",
      "+--------------+------------+-------------+----------------+-------------+--------------------+-------------+\n",
      "only showing top 5 rows\n",
      "\n"
     ]
    }
   ],
   "source": [
    "population_details_table.show(5)"
   ]
  },
  {
   "cell_type": "code",
   "execution_count": 113,
   "metadata": {
    "editable": true
   },
   "outputs": [],
   "source": [
    "#write the population details table partitioned by state and city\n",
    "population_details_table.write.partitionBy(\"state\",\"city\").parquet(output_data+\"/population_details_table.parquet\")"
   ]
  },
  {
   "cell_type": "markdown",
   "metadata": {
    "editable": true
   },
   "source": [
    "#### demographic_summary"
   ]
  },
  {
   "cell_type": "code",
   "execution_count": 114,
   "metadata": {
    "editable": true
   },
   "outputs": [],
   "source": [
    "# define the demographic summary schema\n",
    "demographic_summary_schema = StructType([\n",
    "        StructField(\"city\", StringType()),\n",
    "        StructField(\"state\", StringType()),\n",
    "        StructField(\"median_age\", DoubleType()),\n",
    "        StructField(\"num_veterans\", IntegerType()),\n",
    "        StructField(\"foreign_born\", StringType()),\n",
    "        StructField(\"avg_houshold_size\", DoubleType()),\n",
    "    ])"
   ]
  },
  {
   "cell_type": "code",
   "execution_count": 115,
   "metadata": {
    "editable": true
   },
   "outputs": [
    {
     "data": {
      "text/html": [
       "<div>\n",
       "<style scoped>\n",
       "    .dataframe tbody tr th:only-of-type {\n",
       "        vertical-align: middle;\n",
       "    }\n",
       "\n",
       "    .dataframe tbody tr th {\n",
       "        vertical-align: top;\n",
       "    }\n",
       "\n",
       "    .dataframe thead th {\n",
       "        text-align: right;\n",
       "    }\n",
       "</style>\n",
       "<table border=\"1\" class=\"dataframe\">\n",
       "  <thead>\n",
       "    <tr style=\"text-align: right;\">\n",
       "      <th></th>\n",
       "      <th>city</th>\n",
       "      <th>state</th>\n",
       "      <th>median_age</th>\n",
       "      <th>num_veterans</th>\n",
       "      <th>foreign_born</th>\n",
       "      <th>avg_houshold_size</th>\n",
       "    </tr>\n",
       "  </thead>\n",
       "  <tbody>\n",
       "    <tr>\n",
       "      <th>0</th>\n",
       "      <td>Silver Spring</td>\n",
       "      <td>Maryland</td>\n",
       "      <td>33.8</td>\n",
       "      <td>1562</td>\n",
       "      <td>30908.0</td>\n",
       "      <td>2.6</td>\n",
       "    </tr>\n",
       "  </tbody>\n",
       "</table>\n",
       "</div>"
      ],
      "text/plain": [
       "            city     state  median_age  num_veterans  foreign_born  \\\n",
       "0  Silver Spring  Maryland        33.8          1562       30908.0   \n",
       "\n",
       "   avg_houshold_size  \n",
       "0                2.6  "
      ]
     },
     "execution_count": 115,
     "metadata": {},
     "output_type": "execute_result"
    }
   ],
   "source": [
    "demographic_summary_df=df_us_city_demo[['city','state','median_age','num_veterans','foreign_born','avg_houshold_size']]\n",
    "demographic_summary_df.head(1)"
   ]
  },
  {
   "cell_type": "code",
   "execution_count": 116,
   "metadata": {
    "editable": true
   },
   "outputs": [],
   "source": [
    "demographic_summary_table = spark.createDataFrame(demographic_summary_df,schema=demographic_summary_schema)"
   ]
  },
  {
   "cell_type": "code",
   "execution_count": 117,
   "metadata": {
    "editable": true
   },
   "outputs": [],
   "source": [
    "demographic_summary_table=demographic_summary_table.withColumn(\"summary_id\", monotonically_increasing_id())"
   ]
  },
  {
   "cell_type": "code",
   "execution_count": 118,
   "metadata": {
    "editable": true
   },
   "outputs": [
    {
     "name": "stdout",
     "output_type": "stream",
     "text": [
      "+----------------+-------------+----------+------------+------------+-----------------+----------+\n",
      "|            city|        state|median_age|num_veterans|foreign_born|avg_houshold_size|summary_id|\n",
      "+----------------+-------------+----------+------------+------------+-----------------+----------+\n",
      "|   Silver Spring|     Maryland|      33.8|        1562|     30908.0|              2.6|         0|\n",
      "|          Quincy|Massachusetts|      41.0|        4147|     32935.0|             2.39|         1|\n",
      "|          Hoover|      Alabama|      38.5|        4819|      8229.0|             2.58|         2|\n",
      "|Rancho Cucamonga|   California|      34.5|        5821|     33878.0|             3.18|         3|\n",
      "+----------------+-------------+----------+------------+------------+-----------------+----------+\n",
      "only showing top 4 rows\n",
      "\n"
     ]
    }
   ],
   "source": [
    "demographic_summary_table.show(4)"
   ]
  },
  {
   "cell_type": "code",
   "execution_count": 120,
   "metadata": {
    "editable": true
   },
   "outputs": [],
   "source": [
    "# write demographic summary table partitioned by state and city\n",
    "demographic_summary_table.write.partitionBy(\"state\",\"city\").parquet(output_data+\"/demographic_summary_table.parquet\")"
   ]
  },
  {
   "cell_type": "markdown",
   "metadata": {
    "editable": true
   },
   "source": [
    "#### 4.2 Data Quality Checks\n",
    "Explain the data quality checks you'll perform to ensure the pipeline ran as expected. These could include:\n",
    " * Integrity constraints on the relational database (e.g., unique key, data type, etc.)\n",
    " * Unit tests for the scripts to ensure they are doing the right thing\n",
    " * Source/Count checks to ensure completeness\n",
    " \n",
    "Run Quality Checks"
   ]
  },
  {
   "cell_type": "markdown",
   "metadata": {
    "editable": true
   },
   "source": [
    "##### 4.2.1- Print all the schema to check the datatype and null vales"
   ]
  },
  {
   "cell_type": "code",
   "execution_count": 121,
   "metadata": {
    "editable": true
   },
   "outputs": [
    {
     "name": "stdout",
     "output_type": "stream",
     "text": [
      "root\n",
      " |-- city_code: integer (nullable = true)\n",
      " |-- country_code: integer (nullable = true)\n",
      " |-- age: integer (nullable = true)\n",
      " |-- gender: string (nullable = true)\n",
      " |-- occupation: string (nullable = true)\n",
      " |-- birth_year: integer (nullable = true)\n",
      " |-- date_to_stay: string (nullable = true)\n",
      " |-- INSnum: string (nullable = true)\n",
      " |-- admission_number: long (nullable = true)\n",
      " |-- admission_class: string (nullable = true)\n",
      " |-- immigrant_id: long (nullable = false)\n",
      "\n"
     ]
    }
   ],
   "source": [
    "immigrant_details_table.printSchema()"
   ]
  },
  {
   "cell_type": "code",
   "execution_count": 122,
   "metadata": {
    "editable": true
   },
   "outputs": [
    {
     "name": "stdout",
     "output_type": "stream",
     "text": [
      "root\n",
      " |-- arrival_date: integer (nullable = true)\n",
      " |-- departure_date: double (nullable = true)\n",
      " |-- arrival_port: string (nullable = true)\n",
      " |-- departure_port: string (nullable = true)\n",
      " |-- arrival_flag: string (nullable = true)\n",
      " |-- departure_flag: string (nullable = true)\n",
      " |-- immig_mode: integer (nullable = true)\n",
      " |-- visa_type: integer (nullable = true)\n",
      " |-- visapost: string (nullable = true)\n",
      " |-- trip_id: long (nullable = false)\n",
      "\n"
     ]
    }
   ],
   "source": [
    "trip_table.printSchema()"
   ]
  },
  {
   "cell_type": "code",
   "execution_count": 123,
   "metadata": {
    "editable": true
   },
   "outputs": [
    {
     "name": "stdout",
     "output_type": "stream",
     "text": [
      "root\n",
      " |-- airline: string (nullable = true)\n",
      " |-- age: string (nullable = true)\n",
      " |-- airline_id: long (nullable = false)\n",
      "\n"
     ]
    }
   ],
   "source": [
    "airline_table.printSchema()"
   ]
  },
  {
   "cell_type": "code",
   "execution_count": 124,
   "metadata": {
    "editable": true
   },
   "outputs": [
    {
     "name": "stdout",
     "output_type": "stream",
     "text": [
      "root\n",
      " |-- type: string (nullable = true)\n",
      " |-- name: string (nullable = true)\n",
      " |-- country: string (nullable = true)\n",
      " |-- region: string (nullable = true)\n",
      " |-- local_code: string (nullable = true)\n",
      " |-- IATA_code: string (nullable = true)\n",
      " |-- airport_id: long (nullable = false)\n",
      "\n"
     ]
    }
   ],
   "source": [
    "airport_table.printSchema()"
   ]
  },
  {
   "cell_type": "code",
   "execution_count": 125,
   "metadata": {
    "editable": true
   },
   "outputs": [
    {
     "name": "stdout",
     "output_type": "stream",
     "text": [
      "root\n",
      " |-- datetime: string (nullable = true)\n",
      " |-- Avg_temp: string (nullable = true)\n",
      " |-- Avg_temp_uncert: string (nullable = true)\n",
      " |-- city: string (nullable = true)\n",
      " |-- country: string (nullable = true)\n",
      " |-- year: string (nullable = true)\n",
      " |-- month: string (nullable = true)\n",
      " |-- temp_id: long (nullable = false)\n",
      "\n"
     ]
    }
   ],
   "source": [
    "temperature_table.printSchema()"
   ]
  },
  {
   "cell_type": "code",
   "execution_count": 126,
   "metadata": {
    "editable": true
   },
   "outputs": [
    {
     "name": "stdout",
     "output_type": "stream",
     "text": [
      "root\n",
      " |-- datetime: string (nullable = true)\n",
      " |-- year: string (nullable = true)\n",
      " |-- month: string (nullable = true)\n",
      " |-- time_id: long (nullable = false)\n",
      "\n"
     ]
    }
   ],
   "source": [
    "time_table.printSchema()"
   ]
  },
  {
   "cell_type": "code",
   "execution_count": 127,
   "metadata": {
    "editable": true
   },
   "outputs": [
    {
     "name": "stdout",
     "output_type": "stream",
     "text": [
      "root\n",
      " |-- female_portion: double (nullable = true)\n",
      " |-- male_portion: double (nullable = true)\n",
      " |-- total_portion: integer (nullable = true)\n",
      " |-- city: string (nullable = true)\n",
      " |-- state: string (nullable = true)\n",
      " |-- race: string (nullable = true)\n",
      " |-- population_id: long (nullable = false)\n",
      "\n"
     ]
    }
   ],
   "source": [
    "population_details_table.printSchema()"
   ]
  },
  {
   "cell_type": "code",
   "execution_count": 128,
   "metadata": {
    "editable": true
   },
   "outputs": [
    {
     "name": "stdout",
     "output_type": "stream",
     "text": [
      "root\n",
      " |-- city: string (nullable = true)\n",
      " |-- state: string (nullable = true)\n",
      " |-- median_age: double (nullable = true)\n",
      " |-- num_veterans: integer (nullable = true)\n",
      " |-- foreign_born: string (nullable = true)\n",
      " |-- avg_houshold_size: double (nullable = true)\n",
      " |-- summary_id: long (nullable = false)\n",
      "\n"
     ]
    }
   ],
   "source": [
    "demographic_summary_table.printSchema()"
   ]
  },
  {
   "cell_type": "markdown",
   "metadata": {
    "editable": true
   },
   "source": [
    "##### 4.2.2- Check if the tables are empty or not"
   ]
  },
  {
   "cell_type": "code",
   "execution_count": 136,
   "metadata": {
    "editable": true
   },
   "outputs": [
    {
     "name": "stdout",
     "output_type": "stream",
     "text": [
      "immigrant_details table dimesions: (369, 11)\n"
     ]
    }
   ],
   "source": [
    "print('immigrant_details table dimesions (rows,columns)',(immigrant_details_table.count(), len(immigrant_details_table.columns)))"
   ]
  },
  {
   "cell_type": "code",
   "execution_count": 138,
   "metadata": {
    "editable": true
   },
   "outputs": [
    {
     "name": "stdout",
     "output_type": "stream",
     "text": [
      "trip table dimesions : (rows,columns): (369, 10)\n"
     ]
    }
   ],
   "source": [
    "print('trip table dimesions (rows,columns):',(trip_table.count(), len(trip_table.columns)))"
   ]
  },
  {
   "cell_type": "code",
   "execution_count": 139,
   "metadata": {
    "editable": true
   },
   "outputs": [
    {
     "name": "stdout",
     "output_type": "stream",
     "text": [
      "airline table dimesions: : (rows,columns) (369, 3)\n"
     ]
    }
   ],
   "source": [
    "print('airline table dimesions (rows,columns):',(airline_table.count(), len(airline_table.columns)))"
   ]
  },
  {
   "cell_type": "code",
   "execution_count": 140,
   "metadata": {
    "editable": true
   },
   "outputs": [
    {
     "name": "stdout",
     "output_type": "stream",
     "text": [
      "airport table dimesions (rows,columns): (678, 7)\n"
     ]
    }
   ],
   "source": [
    "print('airport table dimesions (rows,columns):',(airport_table.count(), len(airport_table.columns)))"
   ]
  },
  {
   "cell_type": "code",
   "execution_count": 142,
   "metadata": {
    "editable": true
   },
   "outputs": [
    {
     "name": "stdout",
     "output_type": "stream",
     "text": [
      "temperature table dimesions (rows,columns): (661524, 8)\n"
     ]
    }
   ],
   "source": [
    "print('temperature table dimesions (rows,columns):',(temperature_table.count(), len(temperature_table.columns)))"
   ]
  },
  {
   "cell_type": "code",
   "execution_count": 144,
   "metadata": {
    "editable": true
   },
   "outputs": [
    {
     "name": "stdout",
     "output_type": "stream",
     "text": [
      "time table dimesions (rows,columns): (661524, 4)\n"
     ]
    }
   ],
   "source": [
    "print('time table dimesions (rows,columns):',(time_table.count(), len(time_table.columns)))"
   ]
  },
  {
   "cell_type": "code",
   "execution_count": 145,
   "metadata": {
    "editable": true
   },
   "outputs": [
    {
     "name": "stdout",
     "output_type": "stream",
     "text": [
      "population_details dimesions (rows,columns): (2875, 7)\n"
     ]
    }
   ],
   "source": [
    "print('population_details dimesions (rows,columns):',(population_details_table.count(), len(population_details_table.columns)))"
   ]
  },
  {
   "cell_type": "code",
   "execution_count": 146,
   "metadata": {
    "editable": true
   },
   "outputs": [
    {
     "name": "stdout",
     "output_type": "stream",
     "text": [
      "demographic_summary dimesions (rows,columns): (2875, 7)\n"
     ]
    }
   ],
   "source": [
    "print('demographic_summary dimesions (rows,columns):',(demographic_summary_table.count(), len(demographic_summary_table.columns)))"
   ]
  },
  {
   "cell_type": "markdown",
   "metadata": {
    "editable": true
   },
   "source": [
    "#### 4.3 Data dictionary \n",
    "Here is a brief description what means data dictionary:\n",
    "- Describes a table’s columns based on common traits (i.e name, definition, data type) within another table.\n",
    "- Data dictionaries allow readers to understand complex databases without having to investigate each column.\n",
    "- It is like a summary of columns number and type in each table.\n",
    "- It is most used if a data table is simply too large to view directly."
   ]
  },
  {
   "cell_type": "code",
   "execution_count": 147,
   "metadata": {
    "editable": true
   },
   "outputs": [
    {
     "data": {
      "text/html": [
       "<img src=\"my_dict.png\" width=\"900\" height=\"900\"/>"
      ],
      "text/plain": [
       "<IPython.core.display.Image object>"
      ]
     },
     "execution_count": 147,
     "metadata": {},
     "output_type": "execute_result"
    }
   ],
   "source": [
    "Image(url=\"my_dict.png\", width=900, height=900)"
   ]
  },
  {
   "cell_type": "markdown",
   "metadata": {
    "editable": true
   },
   "source": [
    "#### Step 5: Complete Project Write Up\n",
    "* Clearly state the rationale for the choice of tools and technologies for the project.\n",
    "* Propose how often the data should be updated and why.\n",
    "* Write a description of how you would approach the problem differently under the following scenarios:\n",
    " * The data was increased by 100x.\n",
    " * The data populates a dashboard that must be updated on a daily basis by 7am every day.\n",
    " * The database needed to be accessed by 100+ people."
   ]
  },
  {
   "cell_type": "markdown",
   "metadata": {
    "editable": true
   },
   "source": [
    "##### 5.1- Tools and Technologies\n",
    "Clearly state the rationale for the choice of tools: \n",
    "\n",
    "- The data is stored in S3 bucket : I have chosen this solution because it offers durability, availability, performance, security, and virtually unlimited scalability at very low costs.\n",
    "- Pandas for Exploratory Data Analysis (EDA) : It is a Profiling Library that allows you to perform fast and effective data exploration. It allows you to become familiar with the given data via exploration, through statistics, data visualisations, and data summaries.\n",
    "- PySpark : It used to process large datasets, building machine learning pipelines, and creating ETLs for a data platform."
   ]
  },
  {
   "cell_type": "markdown",
   "metadata": {
    "editable": true
   },
   "source": [
    "##### 5.2- Data update"
   ]
  },
  {
   "cell_type": "markdown",
   "metadata": {
    "editable": true
   },
   "source": [
    "- Data must updated regulary to ensure that the information stored in it or derived from it is current. The process of updating the data is called the refresh process\n",
    "- In our case we update our data by adding new records to our tables and deleting duplicates\n",
    "- Data could be updated as follow:\n",
    "    - Temperature and Demographic details and statistics (Tables) are updated each 12 months as those reports are only generated annualy.\n",
    "    - Immigration data (Tables) could be updated monthly or each six months."
   ]
  },
  {
   "cell_type": "markdown",
   "metadata": {
    "editable": true
   },
   "source": [
    "##### 5.3- Perspective\n",
    "\n",
    "* Write a description of how you would approach the problem differently under the following scenarios:\n",
    " * The data was increased by 100x.\n",
    " * The data populates a dashboard that must be updated on a daily basis by 7am every day.\n",
    " * The database needed to be accessed by 100+ people.\n",
    " \n",
    "1- The data was increased by 100x "
   ]
  },
  {
   "cell_type": "markdown",
   "metadata": {
    "editable": true
   },
   "source": [
    "- If the data has been increased by 100x we could choose to migrate our local solution to the cloud using RDS or Redshift.\n",
    "- Knowing that our data is going to be used by BI apps (OLAP) or that the data is really very large so RDS is not optimal solution\n",
    "- The optimal solution here is using Redshift which, supports data warehouse and data lake approaches, enabling it to access and analyze very large amounts of data. \n"
   ]
  },
  {
   "cell_type": "markdown",
   "metadata": {
    "editable": true
   },
   "source": [
    "2- The data populates a dashboard that must be updated on a daily basis by 7am every day."
   ]
  },
  {
   "cell_type": "markdown",
   "metadata": {
    "editable": true
   },
   "source": [
    "- We can develop a data pipeline using Apache Airflow, a data pipeline is a set of consecutive or parallel tasks such as : collection, cleaning, analysis, visualization etc.\n",
    "- Then, we schedule tasks of our pipeline to be run daily at 6:30\n",
    "- The output reports or files of this pipeline are insert into S3 bucket\n",
    "- Our dashboard could be devloped using AWS Quicksight where the dataset to be visualized could be updated daily at 7:00 am"
   ]
  },
  {
   "cell_type": "markdown",
   "metadata": {
    "editable": true
   },
   "source": [
    "The database needed to be accessed by 100+ people."
   ]
  },
  {
   "cell_type": "markdown",
   "metadata": {
    "editable": true
   },
   "source": [
    "- If those users are only going to access data withou performing online analysis or processing so in this case RDS is also a good solution\n",
    "- Otherwise, Redshift is our best solution"
   ]
  },
  {
   "cell_type": "code",
   "execution_count": null,
   "metadata": {
    "editable": true
   },
   "outputs": [],
   "source": []
  },
  {
   "cell_type": "code",
   "execution_count": null,
   "metadata": {
    "editable": true
   },
   "outputs": [],
   "source": []
  }
 ],
 "metadata": {
  "kernelspec": {
   "display_name": "Python 3",
   "language": "python",
   "name": "python3"
  },
  "language_info": {
   "codemirror_mode": {
    "name": "ipython",
    "version": 3
   },
   "file_extension": ".py",
   "mimetype": "text/x-python",
   "name": "python",
   "nbconvert_exporter": "python",
   "pygments_lexer": "ipython3",
   "version": "3.6.3"
  }
 },
 "nbformat": 4,
 "nbformat_minor": 4
}
